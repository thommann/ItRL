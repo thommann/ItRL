{
 "cells": [
  {
   "cell_type": "markdown",
   "id": "02944396",
   "metadata": {},
   "source": [
    "# Assignment"
   ]
  },
  {
   "cell_type": "code",
   "execution_count": 57,
   "id": "c9652bc6",
   "metadata": {},
   "outputs": [],
   "source": [
    "# Import \n",
    "import random\n",
    "import numpy as np\n",
    "import matplotlib.pyplot as plt\n",
    "import pandas as pd\n",
    "from Chess_env import *\n",
    "\n",
    "\n",
    "random.seed(1)\n",
    "np.random.seed(1)\n",
    "size_board = 4"
   ]
  },
  {
   "cell_type": "markdown",
   "id": "0bceca7c",
   "metadata": {},
   "source": [
    "## The Environment\n",
    "\n",
    "You can find the environment in the file Chess_env, which contains the class Chess_env. To define an object, you need to provide the board size considered as input. In our example, size_board=4. \n",
    "Chess_env is composed by the following methods:\n",
    "\n",
    "1. Initialise_game. The method initialises an episode by placing the three pieces considered (Agent's king and queen, enemy's king) in the chess board. The outputs of the method are described below in order.\n",
    "\n",
    "     S $\\;$ A matrix representing the board locations filled with 4 numbers: 0, no piece in that position; 1, location of the \n",
    "     agent's king; 2 location of the queen; 3 location of the enemy king.\n",
    "     \n",
    "     X $\\;$ The features, that is the input to the neural network. See the assignment for more information regarding the            definition of the features adopted. To personalise this, go into the Features method of the class Chess_env() and change        accordingly.\n",
    "     \n",
    "     allowed_a $\\;$ The allowed actions that the agent can make. The agent is moving a king, with a total number of 8                possible actions, and a queen, with a total number of $(board_{size}-1)\\times 8$ actions. The total number of possible actions correspond      to the sum of the two, but not all actions are allowed in a given position (movements to locations outside the borders or      against chess rules). Thus, the variable allowed_a is a vector that is one (zero) for an action that the agent can (can't)      make. Be careful, apply the policy considered on the actions that are allowed only.\n",
    "     \n",
    "\n",
    "2. OneStep. The method performs a one step update of the system. Given as input the action selected by the agent, it updates the chess board by performing that action and the response of the enemy king (which is a random allowed action in the settings considered). The first three outputs are the same as for the Initialise_game method, but the variables are computed for the position reached after the update of the system. The fourth and fifth outputs are:\n",
    "\n",
    "     R $\\;$ The reward. To change this, look at the OneStep method of the class where the rewards are set.\n",
    "     \n",
    "     Done $\\;$ A variable that is 1 if the episode has ended (checkmate or draw).\n",
    "     \n",
    "     \n",
    "3. Features. Given the chessboard position, the method computes the features.\n",
    "\n",
    "This information and a quick analysis of the class should be all you need to get going. The other functions that the class exploits are uncommented and constitute an example on how not to write a python code. You can take a look at them if you want, but it is not necessary.\n",
    "\n",
    "\n",
    "\n",
    "\n"
   ]
  },
  {
   "cell_type": "code",
   "execution_count": 58,
   "id": "9593a299",
   "metadata": {},
   "outputs": [],
   "source": [
    "## INITIALISE THE ENVIRONMENT\n",
    "env = Chess_Env(size_board)"
   ]
  },
  {
   "cell_type": "code",
   "execution_count": 59,
   "id": "bbc05bfd",
   "metadata": {},
   "outputs": [
    {
     "name": "stdout",
     "output_type": "stream",
     "text": [
      "[[0 0 0 0]\n",
      " [0 1 0 0]\n",
      " [0 0 0 2]\n",
      " [3 0 0 0]]\n",
      "check?  0\n",
      "dofk2  1\n",
      "\n",
      "[[0 0 1 0]\n",
      " [0 0 0 0]\n",
      " [0 0 0 2]\n",
      " [0 3 0 0]]\n",
      "0  0\n",
      "check?  0\n",
      "dofk2  1\n",
      "\n",
      "[[0 0 0 0]\n",
      " [0 0 0 1]\n",
      " [0 0 0 2]\n",
      " [3 0 0 0]]\n",
      "0  0\n",
      "check?  0\n",
      "dofk2  1\n",
      "\n",
      "[[0 0 0 0]\n",
      " [0 0 2 1]\n",
      " [3 0 0 0]\n",
      " [0 0 0 0]]\n",
      "0  0\n",
      "check?  0\n",
      "dofk2  1\n",
      "\n",
      "[[0 0 0 1]\n",
      " [0 0 2 0]\n",
      " [0 0 0 0]\n",
      " [0 3 0 0]]\n",
      "0  0\n",
      "check?  0\n",
      "dofk2  1\n",
      "\n",
      "[[0 0 0 0]\n",
      " [0 0 2 1]\n",
      " [3 0 0 0]\n",
      " [0 0 0 0]]\n",
      "0  0\n",
      "check?  0\n",
      "dofk2  1\n"
     ]
    }
   ],
   "source": [
    "## PRINT 5 STEPS OF AN EPISODE CONSIDERING A RANDOM AGENT\n",
    "\n",
    "S, X, allowed_a = env.Initialise_game()  # INTIALISE GAME\n",
    "\n",
    "print(S)  # PRINT CHESS BOARD (SEE THE DESCRIPTION ABOVE)\n",
    "\n",
    "print('check? ', env.check)  # PRINT VARIABLE THAT TELLS IF ENEMY KING IS IN CHECK (1) OR NOT (0)\n",
    "print('dofk2 ', np.sum(env.dfk2_constrain).astype(int))  # PRINT THE NUMBER OF LOCATIONS THAT THE ENEMY KING CAN MOVE TO\n",
    "\n",
    "for i in range(5):\n",
    "\n",
    "    a, _ = np.where(allowed_a == 1)  # FIND WHAT THE ALLOWED ACTIONS ARE\n",
    "    a_agent = np.random.permutation(a)[0]  # MAKE A RANDOM ACTION\n",
    "\n",
    "    S, X, allowed_a, R, Done = env.OneStep(a_agent)  # UPDATE THE ENVIRONMENT\n",
    "\n",
    "    ## PRINT CHESS BOARD AND VARIABLES\n",
    "    print('')\n",
    "    print(S)\n",
    "    print(R, '', Done)\n",
    "    print('check? ', env.check)\n",
    "    print('dofk2 ', np.sum(env.dfk2_constrain).astype(int))\n",
    "\n",
    "    # TERMINATE THE EPISODE IF Done=True (DRAW OR CHECKMATE)\n",
    "    if Done:\n",
    "        break\n",
    "\n"
   ]
  },
  {
   "cell_type": "code",
   "execution_count": 60,
   "id": "fc16cf7b",
   "metadata": {},
   "outputs": [
    {
     "name": "stdout",
     "output_type": "stream",
     "text": [
      "Random_Agent, Average reward: 0.199 Number of steps:  7.282\n"
     ]
    }
   ],
   "source": [
    "# PERFORM N_episodes=1000 EPISODES MAKING RANDOM ACTIONS AND COMPUTE THE AVERAGE REWARD AND NUMBER OF MOVES \n",
    "\n",
    "S, X, allowed_a = env.Initialise_game()\n",
    "N_episodes = 1000\n",
    "\n",
    "# VARIABLES WHERE TO SAVE THE FINAL REWARD IN AN EPISODE AND THE NUMBER OF MOVES \n",
    "R_save_random = np.zeros([N_episodes, 1])\n",
    "N_moves_save_random = np.zeros([N_episodes, 1])\n",
    "\n",
    "for n in range(N_episodes):\n",
    "\n",
    "    S, X, allowed_a = env.Initialise_game()  # INITIALISE GAME\n",
    "    Done = 0  # SET Done=0 AT THE BEGINNING\n",
    "    i = 1  # COUNTER FOR THE NUMBER OF ACTIONS (MOVES) IN AN EPISODE\n",
    "\n",
    "    # UNTIL THE EPISODE IS NOT OVER...(Done=0)\n",
    "    while Done == 0:\n",
    "\n",
    "        # SAME AS THE CELL BEFORE, BUT SAVING THE RESULTS WHEN THE EPISODE TERMINATES \n",
    "\n",
    "        a, _ = np.where(allowed_a == 1)\n",
    "        a_agent = np.random.permutation(a)[0]\n",
    "\n",
    "        S, X, allowed_a, R, Done = env.OneStep(a_agent)\n",
    "\n",
    "        if Done:\n",
    "            R_save_random[n] = np.copy(R)\n",
    "            N_moves_save_random[n] = np.copy(i)\n",
    "            break\n",
    "\n",
    "        i = i + 1  # UPDATE THE COUNTER\n",
    "\n",
    "# AS YOU SEE, THE PERFORMANCE OF A RANDOM AGENT ARE NOT GREAT, SINCE THE MAJORITY OF THE POSITIONS END WITH A DRAW\n",
    "# (THE ENEMY KING IS NOT IN CHECK AND CAN'T MOVE)\n",
    "\n",
    "print('Random_Agent, Average reward:', np.mean(R_save_random), 'Number of steps: ', np.mean(N_moves_save_random))"
   ]
  },
  {
   "cell_type": "markdown",
   "id": "3829534d",
   "metadata": {},
   "source": [
    "## Task 3\n",
    "The following is an implementation of a general **Neural Network Class** and a reinforcement learner using **SARSA**."
   ]
  },
  {
   "cell_type": "code",
   "execution_count": 61,
   "id": "a306cbb8",
   "metadata": {},
   "outputs": [],
   "source": [
    "class Network:\n",
    "    W1, W2 = None, None\n",
    "\n",
    "    def __init__(self, K, input_dim, output_dim, eta=0.02, rho=0.9, rmsprop=False):\n",
    "        # Xavier initialization\n",
    "        self.W1 = np.random.randn(K + 1, input_dim + 1) * 1.0 / np.sqrt(input_dim + 1)\n",
    "        self.W2 = np.random.randn(output_dim, K + 1) * 1.0 / np.sqrt(K + 1)\n",
    "        # Step size\n",
    "        self.eta = eta\n",
    "        # RMSprop parameters\n",
    "        self.rho = rho\n",
    "        self.V1 = np.zeros(self.W1.shape)\n",
    "        self.V2 = np.zeros(self.W2.shape)\n",
    "        self.l1 = None\n",
    "        self.l2 = None\n",
    "        self.rmsprop = rmsprop\n",
    "       \n",
    "    @staticmethod\n",
    "    def relu(A):\n",
    "        return np.maximum(0, A)\n",
    "\n",
    "    @staticmethod\n",
    "    def gradient(X, T, Y, H, W2, Z1, Z2):\n",
    "        # Add bias term\n",
    "        X_bias = np.vstack((np.ones(X.shape[1]), X))\n",
    "\n",
    "        # d Loss / d Y\n",
    "        G_Y = 2. * (Y - T)\n",
    "        # d Y / d Z2\n",
    "        G_Z2 = G_Y * np.maximum(0, np.sign(Z2))\n",
    "        # d Z2 / d W2\n",
    "        G_W2 = np.dot(G_Z2, H.T)\n",
    "        # Layer 2 gradient\n",
    "        G2 = (1. / X_bias.shape[1]) * G_W2\n",
    "\n",
    "        # d Z2 / d H\n",
    "        G_H = np.dot(W2.T, G_Z2)\n",
    "        # d H / d Z1\n",
    "        G_Z1 = G_H * np.maximum(0, np.sign(Z1))\n",
    "        # d Z1 / d W1\n",
    "        G_W1 = np.dot(G_Z1, X_bias.T)\n",
    "        # Layer 1 gradient\n",
    "        G1 = (1. / X_bias.shape[1]) * G_W1\n",
    "        return G1, G2\n",
    "\n",
    "    def descent(self, X, T, H, Y, Z1, Z2):\n",
    "        G1, G2 = Network.gradient(X, T, Y, H, self.W2, Z1, Z2)\n",
    "\n",
    "        if self.rmsprop:\n",
    "            self.V1 = self.rho * self.V1 + (1 - self.rho) * np.square(G1)\n",
    "            self.V2 = self.rho * self.V2 + (1 - self.rho) * np.square(G2)\n",
    "\n",
    "            self.l1 = (self.eta / (np.sqrt(self.V1) + 1e-7))\n",
    "            self.l2 = (self.eta / (np.sqrt(self.V2) + 1e-7))\n",
    "\n",
    "            self.W1 -= self.l1 * G1\n",
    "            self.W2 -= self.l2 * G2\n",
    "        else:\n",
    "            self.W1 -= self.eta * G1\n",
    "            self.W2 -= self.eta * G2\n",
    "\n",
    "    def forward(self, X):\n",
    "        # Add Bias to first layer input\n",
    "        X_bias = np.vstack((np.ones(X.shape[1]), X))\n",
    "        # First Layer\n",
    "        Z1 = np.dot(self.W1, X_bias)\n",
    "        H = Network.relu(Z1)\n",
    "        # Fix Bias for second layer input\n",
    "        H[0, :] = 1.\n",
    "        # Second Layer\n",
    "        Z2 = np.dot(self.W2, H)\n",
    "        Y = Network.relu(Z2)\n",
    "        return Y, H, Z1, Z2"
   ]
  },
  {
   "cell_type": "code",
   "execution_count": 62,
   "id": "ea9bb9e8",
   "metadata": {
    "pycharm": {
     "name": "#%%\n"
    }
   },
   "outputs": [],
   "source": [
    "def epsilon_greedy_policy(Qvalues, epsilon):\n",
    "    N_class = np.shape(Qvalues)[0]\n",
    "    batch_size = np.shape(Qvalues)[1]\n",
    "\n",
    "    rand_values = np.random.uniform(0, 1, [batch_size])\n",
    "\n",
    "    rand_a = rand_values < epsilon\n",
    "    a = np.zeros([batch_size, N_class])\n",
    "\n",
    "    for i in range(batch_size):\n",
    "        if rand_a[i]:\n",
    "            valid_moves = np.where(Qvalues[:,i] > -1000)[0]\n",
    "            chosen = np.random.choice(valid_moves)\n",
    "            a[i, chosen] = 1\n",
    "        else:\n",
    "            a[i, np.argmax(Qvalues[:, i])] = 1\n",
    "\n",
    "    return a"
   ]
  },
  {
   "cell_type": "code",
   "execution_count": 63,
   "outputs": [],
   "source": [
    "def test(network, nr_episodes=10000):\n",
    "    nr_moves = []\n",
    "    total_rewards = []\n",
    "    nr_stuck = 0\n",
    "    for i in range(nr_episodes):\n",
    "\t    done = 0\n",
    "\t    _, X, allowed_a = env.Initialise_game()\n",
    "\t    X = X.reshape(len(X), 1)\n",
    "\t    total_reward = 0\n",
    "\t    count = 0\n",
    "\t    while done == 0:\n",
    "\t\t    count += 1\n",
    "\t\t    Q_values, _, _, _ = network.forward(X)\n",
    "\t\t    masked_Q_values = Q_values - (1 - allowed_a) * 100000\n",
    "\t\t    a_agent = epsilon_greedy_policy(masked_Q_values, 0).T\n",
    "\t\t    _, X, _, R, done = env.OneStep(np.argmax(a_agent))\n",
    "\t\t    X = np.array(X).reshape(len(X),1)\n",
    "\t\t    total_reward += R\n",
    "            if count > 100:\n",
    "                nr_stuck += 1\n",
    "                break\n",
    "\t    nr_moves.append(count)\n",
    "\t    total_rewards.append(total_reward)\n",
    "    return nr_moves, total_rewards, nr_stuck"
   ],
   "metadata": {
    "collapsed": false,
    "pycharm": {
     "name": "#%%\n"
    }
   }
  },
  {
   "cell_type": "code",
   "execution_count": 64,
   "outputs": [],
   "source": [
    "def plot(moves, rewards, name):\n",
    "    ema_rewards = pd.DataFrame(rewards).ewm(halflife=1000).mean()[100:]\n",
    "    plt.figure()\n",
    "    plt.title(f\"{name} Reward / Game\")\n",
    "    plt.plot(ema_rewards)\n",
    "    plt.show()\n",
    "\n",
    "    ema_moves = pd.DataFrame(moves).ewm(halflife=1000).mean()[100:]\n",
    "    plt.figure()\n",
    "    plt.title(f\"{name} Moves / Game\")\n",
    "    plt.plot(ema_moves)\n",
    "    plt.show()"
   ],
   "metadata": {
    "collapsed": false,
    "pycharm": {
     "name": "#%%\n"
    }
   }
  },
  {
   "cell_type": "code",
   "execution_count": 65,
   "outputs": [],
   "source": [
    "def train_and_test(algo, network, name):\n",
    "    moves, rewards = algo(network)\n",
    "    print(f'\\n{name} Agent training, Average reward: {np.mean(rewards)}, Number of steps: {np.mean(moves)}')\n",
    "    moves_test, rewards_test, stuck = test(network)\n",
    "    print(f'\\n{name} Agent testing, Average reward: {np.mean(rewards_test)}, Number of steps: {np.mean(moves_test)}, Stuck: {stuck}')\n",
    "    plot(moves, rewards, name)"
   ],
   "metadata": {
    "collapsed": false,
    "pycharm": {
     "name": "#%%\n"
    }
   }
  },
  {
   "cell_type": "code",
   "execution_count": 66,
   "id": "e6ba1f84",
   "metadata": {},
   "outputs": [],
   "source": [
    "def sarsa(network):\n",
    "    count = []\n",
    "    rewards = []\n",
    "\n",
    "    for n in range(N_episodes):\n",
    "\n",
    "        epsilon_f = epsilon_0 / (1 + beta * n)  ## DECAYING EPSILON\n",
    "        Done = 0  ## SET DONE TO ZERO (BEGINNING OF THE EPISODE)\n",
    "        i = 1  ## COUNTER FOR NUMBER OF ACTIONS\n",
    "        total_reward = 0 ## COUNTER FOR TOTAL REWARD\n",
    "\n",
    "        S, X, allowed_a = env.Initialise_game()  ## INITIALISE GAME\n",
    "        X = X.reshape(len(X), 1)\n",
    "\n",
    "        if n > 0 and n % 100 == 0:\n",
    "            print(f\"\\rEp.: {n}, epsilon: {epsilon_f:.3f}, moves: {np.mean(count[n - 100:]):.2f}\", end=\"\")\n",
    "\n",
    "        Q_values, H, Z1, Z2 = network.forward(X)\n",
    "        masked_Q_values = Q_values - (1 - allowed_a) * 100000\n",
    "        a_agent = epsilon_greedy_policy(masked_Q_values, epsilon_f).T\n",
    "\n",
    "        while Done == 0:  ## START THE EPISODE\n",
    "\n",
    "            S_next, X_next, allowed_a_next, R, Done = env.OneStep(np.argmax(a_agent))\n",
    "            X_next = np.array(X_next).reshape(len(X_next), 1)\n",
    "            \n",
    "            total_reward += R\n",
    "\n",
    "            ## THE EPISODE HAS ENDED, UPDATE...BE CAREFUL, THIS IS THE LAST STEP OF THE EPISODE\n",
    "            if Done == 1:\n",
    "                output = Q_values * a_agent\n",
    "                target = R * a_agent\n",
    "                network.descent(X, target, H, output, Z1, Z2)\n",
    "                count.append(i)\n",
    "                rewards.append(total_reward)\n",
    "                break\n",
    "\n",
    "            # IF THE EPISODE IS NOT OVER...\n",
    "            else:\n",
    "                Q_values_next, H_next, Z1_next, Z2_next = network.forward(X_next)\n",
    "                masked_Q_values_next = Q_values_next - (1 - allowed_a_next) * 100000\n",
    "                a_agent_next = epsilon_greedy_policy(masked_Q_values_next, epsilon_f).T\n",
    "                future_R = Q_values_next[np.argmax(a_agent_next)]\n",
    "                output = Q_values * a_agent\n",
    "                target = (R + gamma * future_R) * a_agent\n",
    "                network.descent(X, target, H, output, Z1, Z2)\n",
    "\n",
    "            # NEXT STATE AND CO. BECOME ACTUAL STATE...     \n",
    "            S = np.copy(S_next)\n",
    "            X = np.copy(X_next)\n",
    "            allowed_a = np.copy(allowed_a_next)\n",
    "            Q_values = np.copy(Q_values_next)\n",
    "            H = np.copy(H_next)\n",
    "            a_agent = np.copy(a_agent_next)\n",
    "            Z1 = np.copy(Z1_next)\n",
    "            Z2 = np.copy(Z2_next)\n",
    "\n",
    "            i += 1  # UPDATE COUNTER FOR NUMBER OF ACTIONS\n",
    "    return count, rewards"
   ]
  },
  {
   "cell_type": "code",
   "execution_count": 67,
   "outputs": [],
   "source": [
    "# INITIALISE THE PARAMETERS OF YOUR NEURAL NETWORK AND...\n",
    "# PLEASE CONSIDER TO USE A MASK OF ONE FOR THE ACTION MADE AND ZERO OTHERWISE IF YOU ARE NOT USING VANILLA GRADIENT DESCENT...\n",
    "# WE SUGGEST A NETWORK WITH ONE HIDDEN LAYER WITH SIZE 200.\n",
    "\n",
    "\n",
    "S, X, allowed_a = env.Initialise_game()\n",
    "N_a = np.shape(allowed_a)[0]  # TOTAL NUMBER OF POSSIBLE ACTIONS\n",
    "\n",
    "N_in = np.shape(X)[0]  ## INPUT SIZE\n",
    "N_h = 200  ## NUMBER OF HIDDEN NODES\n",
    "\n",
    "# HYPERPARAMETERS SUGGESTED (FOR A GRID SIZE OF 4)\n",
    "\n",
    "epsilon_0 = 0.2  # STARTING VALUE OF EPSILON FOR THE EPSILON-GREEDY POLICY\n",
    "beta = 0.00005  # THE PARAMETER SETS HOW QUICKLY THE VALUE OF EPSILON IS DECAYING (SEE epsilon_f BELOW)\n",
    "gamma = 0.85  # THE DISCOUNT FACTOR\n",
    "eta = 0.0035  # THE LEARNING RATE\n",
    "\n",
    "N_episodes = 100000  # THE NUMBER OF GAMES TO BE PLAYED\n",
    "\n",
    "## INITALISE YOUR NEURAL NETWORK...\n",
    "network_sarsa = Network(N_h, N_in, N_a, eta=eta)"
   ],
   "metadata": {
    "collapsed": false,
    "pycharm": {
     "name": "#%%\n"
    }
   }
  },
  {
   "cell_type": "code",
   "execution_count": 68,
   "outputs": [
    {
     "name": "stdout",
     "output_type": "stream",
     "text": [
      "Ep.: 99900, epsilon: 0.033, moves: 2.08\n",
      "SARSA Agent training, Average reward: 0.94284 Number of steps: 2.66473\n"
     ]
    },
    {
     "ename": "KeyboardInterrupt",
     "evalue": "",
     "output_type": "error",
     "traceback": [
      "\u001B[0;31m---------------------------------------------------------------------------\u001B[0m",
      "\u001B[0;31mKeyboardInterrupt\u001B[0m                         Traceback (most recent call last)",
      "Input \u001B[0;32mIn [68]\u001B[0m, in \u001B[0;36m<cell line: 1>\u001B[0;34m()\u001B[0m\n\u001B[0;32m----> 1\u001B[0m \u001B[43mtrain_and_test\u001B[49m\u001B[43m(\u001B[49m\u001B[43msarsa\u001B[49m\u001B[43m,\u001B[49m\u001B[43m \u001B[49m\u001B[43mnetwork_sarsa\u001B[49m\u001B[43m,\u001B[49m\u001B[43m \u001B[49m\u001B[38;5;124;43m\"\u001B[39;49m\u001B[38;5;124;43mSARSA\u001B[39;49m\u001B[38;5;124;43m\"\u001B[39;49m\u001B[43m)\u001B[49m\n",
      "Input \u001B[0;32mIn [65]\u001B[0m, in \u001B[0;36mtrain_and_test\u001B[0;34m(algo, network, name)\u001B[0m\n\u001B[1;32m      2\u001B[0m moves, rewards \u001B[38;5;241m=\u001B[39m algo(network)\n\u001B[1;32m      3\u001B[0m \u001B[38;5;28mprint\u001B[39m(\u001B[38;5;124mf\u001B[39m\u001B[38;5;124m'\u001B[39m\u001B[38;5;130;01m\\n\u001B[39;00m\u001B[38;5;132;01m{\u001B[39;00mname\u001B[38;5;132;01m}\u001B[39;00m\u001B[38;5;124m Agent training, Average reward: \u001B[39m\u001B[38;5;132;01m{\u001B[39;00mnp\u001B[38;5;241m.\u001B[39mmean(rewards)\u001B[38;5;132;01m}\u001B[39;00m\u001B[38;5;124m Number of steps: \u001B[39m\u001B[38;5;132;01m{\u001B[39;00mnp\u001B[38;5;241m.\u001B[39mmean(moves)\u001B[38;5;132;01m}\u001B[39;00m\u001B[38;5;124m'\u001B[39m)\n\u001B[0;32m----> 4\u001B[0m moves_test, rewards_test \u001B[38;5;241m=\u001B[39m \u001B[43mtest\u001B[49m\u001B[43m(\u001B[49m\u001B[43mnetwork\u001B[49m\u001B[43m)\u001B[49m\n\u001B[1;32m      5\u001B[0m \u001B[38;5;28mprint\u001B[39m(\u001B[38;5;124mf\u001B[39m\u001B[38;5;124m'\u001B[39m\u001B[38;5;130;01m\\n\u001B[39;00m\u001B[38;5;132;01m{\u001B[39;00mname\u001B[38;5;132;01m}\u001B[39;00m\u001B[38;5;124m Agent testing, Average reward: \u001B[39m\u001B[38;5;132;01m{\u001B[39;00mnp\u001B[38;5;241m.\u001B[39mmean(rewards_test)\u001B[38;5;132;01m}\u001B[39;00m\u001B[38;5;124m Number of steps: \u001B[39m\u001B[38;5;132;01m{\u001B[39;00mnp\u001B[38;5;241m.\u001B[39mmean(moves_test)\u001B[38;5;132;01m}\u001B[39;00m\u001B[38;5;124m'\u001B[39m)\n\u001B[1;32m      6\u001B[0m plot(moves, rewards, name)\n",
      "Input \u001B[0;32mIn [63]\u001B[0m, in \u001B[0;36mtest\u001B[0;34m(network, nr_episodes)\u001B[0m\n\u001B[1;32m     13\u001B[0m masked_Q_values \u001B[38;5;241m=\u001B[39m Q_values \u001B[38;5;241m-\u001B[39m (\u001B[38;5;241m1\u001B[39m \u001B[38;5;241m-\u001B[39m allowed_a) \u001B[38;5;241m*\u001B[39m \u001B[38;5;241m100000\u001B[39m\n\u001B[1;32m     14\u001B[0m a_agent \u001B[38;5;241m=\u001B[39m epsilon_greedy_policy(masked_Q_values, \u001B[38;5;241m0\u001B[39m)\u001B[38;5;241m.\u001B[39mT\n\u001B[0;32m---> 15\u001B[0m _, X, _, R, done \u001B[38;5;241m=\u001B[39m \u001B[43menv\u001B[49m\u001B[38;5;241;43m.\u001B[39;49m\u001B[43mOneStep\u001B[49m\u001B[43m(\u001B[49m\u001B[43mnp\u001B[49m\u001B[38;5;241;43m.\u001B[39;49m\u001B[43margmax\u001B[49m\u001B[43m(\u001B[49m\u001B[43ma_agent\u001B[49m\u001B[43m)\u001B[49m\u001B[43m)\u001B[49m\n\u001B[1;32m     16\u001B[0m X \u001B[38;5;241m=\u001B[39m np\u001B[38;5;241m.\u001B[39marray(X)\u001B[38;5;241m.\u001B[39mreshape(\u001B[38;5;28mlen\u001B[39m(X),\u001B[38;5;241m1\u001B[39m)\n\u001B[1;32m     17\u001B[0m total_reward \u001B[38;5;241m+\u001B[39m\u001B[38;5;241m=\u001B[39m R\n",
      "File \u001B[0;32m~/git/uzh/ItRL/AssignmentFiles/Chess_env.py:125\u001B[0m, in \u001B[0;36mChess_Env.OneStep\u001B[0;34m(self, a_agent)\u001B[0m\n\u001B[1;32m    122\u001B[0m \u001B[38;5;28mself\u001B[39m\u001B[38;5;241m.\u001B[39mdfk1_constrain, \u001B[38;5;28mself\u001B[39m\u001B[38;5;241m.\u001B[39ma_k1, \u001B[38;5;28mself\u001B[39m\u001B[38;5;241m.\u001B[39mdfk1 \u001B[38;5;241m=\u001B[39m degree_freedom_king1(\u001B[38;5;28mself\u001B[39m\u001B[38;5;241m.\u001B[39mp_k1, \u001B[38;5;28mself\u001B[39m\u001B[38;5;241m.\u001B[39mp_k2, \u001B[38;5;28mself\u001B[39m\u001B[38;5;241m.\u001B[39mp_q1, \u001B[38;5;28mself\u001B[39m\u001B[38;5;241m.\u001B[39mBoard)\n\u001B[1;32m    124\u001B[0m \u001B[38;5;66;03m# Allowed actions for the agent's queen\u001B[39;00m\n\u001B[0;32m--> 125\u001B[0m \u001B[38;5;28mself\u001B[39m\u001B[38;5;241m.\u001B[39mdfq1_constrain, \u001B[38;5;28mself\u001B[39m\u001B[38;5;241m.\u001B[39ma_q1, \u001B[38;5;28mself\u001B[39m\u001B[38;5;241m.\u001B[39mdfq1  \u001B[38;5;241m=\u001B[39m \u001B[43mdegree_freedom_queen\u001B[49m\u001B[43m(\u001B[49m\u001B[38;5;28;43mself\u001B[39;49m\u001B[38;5;241;43m.\u001B[39;49m\u001B[43mp_k1\u001B[49m\u001B[43m,\u001B[49m\u001B[43m \u001B[49m\u001B[38;5;28;43mself\u001B[39;49m\u001B[38;5;241;43m.\u001B[39;49m\u001B[43mp_k2\u001B[49m\u001B[43m,\u001B[49m\u001B[43m \u001B[49m\u001B[38;5;28;43mself\u001B[39;49m\u001B[38;5;241;43m.\u001B[39;49m\u001B[43mp_q1\u001B[49m\u001B[43m,\u001B[49m\u001B[43m \u001B[49m\u001B[38;5;28;43mself\u001B[39;49m\u001B[38;5;241;43m.\u001B[39;49m\u001B[43mBoard\u001B[49m\u001B[43m)\u001B[49m\n\u001B[1;32m    127\u001B[0m \u001B[38;5;66;03m# Allowed actions for the enemy's king\u001B[39;00m\n\u001B[1;32m    128\u001B[0m \u001B[38;5;28mself\u001B[39m\u001B[38;5;241m.\u001B[39mdfk2_constrain, \u001B[38;5;28mself\u001B[39m\u001B[38;5;241m.\u001B[39ma_k2, \u001B[38;5;28mself\u001B[39m\u001B[38;5;241m.\u001B[39mcheck \u001B[38;5;241m=\u001B[39m degree_freedom_king2(\u001B[38;5;28mself\u001B[39m\u001B[38;5;241m.\u001B[39mdfk1, \u001B[38;5;28mself\u001B[39m\u001B[38;5;241m.\u001B[39mp_k2, \u001B[38;5;28mself\u001B[39m\u001B[38;5;241m.\u001B[39mdfq1, \u001B[38;5;28mself\u001B[39m\u001B[38;5;241m.\u001B[39mBoard, \u001B[38;5;28mself\u001B[39m\u001B[38;5;241m.\u001B[39mp_k1)\n",
      "File \u001B[0;32m~/git/uzh/ItRL/AssignmentFiles/degree_freedom_queen.py:152\u001B[0m, in \u001B[0;36mdegree_freedom_queen\u001B[0;34m(p_k1, p_k2, p_q1, s)\u001B[0m\n\u001B[1;32m    150\u001B[0m                             a_q1[j \u001B[38;5;241m+\u001B[39m \u001B[38;5;241m3\u001B[39m \u001B[38;5;241m*\u001B[39m (size_board \u001B[38;5;241m-\u001B[39m \u001B[38;5;241m1\u001B[39m)] \u001B[38;5;241m=\u001B[39m \u001B[38;5;241m1\u001B[39m\n\u001B[1;32m    151\u001B[0m     \u001B[38;5;28;01mif\u001B[39;00m blocked2[\u001B[38;5;241m3\u001B[39m] \u001B[38;5;241m==\u001B[39m \u001B[38;5;241m0\u001B[39m:\n\u001B[0;32m--> 152\u001B[0m         dfQ1_[p_q1[\u001B[38;5;241m0\u001B[39m], \u001B[43mp_q1\u001B[49m\u001B[43m[\u001B[49m\u001B[38;5;241;43m1\u001B[39;49m\u001B[43m]\u001B[49m\u001B[43m \u001B[49m\u001B[38;5;241;43m-\u001B[39;49m\u001B[43m \u001B[49m\u001B[43mj\u001B[49m\u001B[43m \u001B[49m\u001B[38;5;241;43m-\u001B[39;49m\u001B[43m \u001B[49m\u001B[38;5;241;43m1\u001B[39;49m] \u001B[38;5;241m=\u001B[39m \u001B[38;5;241m1\u001B[39m\n\u001B[1;32m    154\u001B[0m \u001B[38;5;66;03m# allow_down_right\u001B[39;00m\n\u001B[1;32m    155\u001B[0m \u001B[38;5;28;01mif\u001B[39;00m p_q1[\u001B[38;5;241m0\u001B[39m] \u001B[38;5;241m+\u001B[39m j \u001B[38;5;241m<\u001B[39m size_board \u001B[38;5;241m-\u001B[39m \u001B[38;5;241m1\u001B[39m \u001B[38;5;129;01mand\u001B[39;00m p_q1[\u001B[38;5;241m1\u001B[39m] \u001B[38;5;241m+\u001B[39m j \u001B[38;5;241m<\u001B[39m size_board \u001B[38;5;241m-\u001B[39m \u001B[38;5;241m1\u001B[39m:\n",
      "\u001B[0;31mKeyboardInterrupt\u001B[0m: "
     ]
    }
   ],
   "source": [
    "train_and_test(sarsa, network_sarsa, \"SARSA\")"
   ],
   "metadata": {
    "collapsed": false,
    "pycharm": {
     "name": "#%%\n"
    }
   }
  },
  {
   "cell_type": "markdown",
   "id": "c1f2bda2",
   "metadata": {},
   "source": [
    "## Task 4\n",
    "We decreased **gamma to 0.7** and decreased **beta to 0.0001**."
   ]
  },
  {
   "cell_type": "code",
   "execution_count": null,
   "id": "37280e58",
   "metadata": {},
   "outputs": [],
   "source": [
    "beta = 0.0001\n",
    "gamma = 0.7     \n",
    "\n",
    "## INITALISE YOUR NEURAL NETWORK...\n",
    "network_adapted_sarsa = Network(N_h, N_in, N_a, eta=eta)"
   ]
  },
  {
   "cell_type": "code",
   "execution_count": null,
   "outputs": [],
   "source": [
    "train_and_test(sarsa, network_adapted_sarsa, \"SARSA Adapted\")"
   ],
   "metadata": {
    "collapsed": false,
    "pycharm": {
     "name": "#%%\n"
    }
   }
  },
  {
   "cell_type": "markdown",
   "id": "8a983c3c",
   "metadata": {},
   "source": [
    "## Task 5\n",
    "We implemented **Q-Learning** and **Experience Replay** as well."
   ]
  },
  {
   "cell_type": "markdown",
   "id": "507ed177",
   "metadata": {},
   "source": [
    "### Q-Learning"
   ]
  },
  {
   "cell_type": "code",
   "execution_count": null,
   "id": "7111f01e",
   "metadata": {},
   "outputs": [],
   "source": [
    "def qlearn(network):\n",
    "    count = []\n",
    "    rewards = []\n",
    "    \n",
    "    for n in range(N_episodes):\n",
    "\n",
    "        epsilon_f = epsilon_0 / (1 + beta * n)  ## DECAYING EPSILON\n",
    "        Done = 0  ## SET DONE TO ZERO (BEGINNING OF THE EPISODE)\n",
    "        i = 1  ## COUNTER FOR NUMBER OF ACTIONS\n",
    "        total_reward = 0 ## COUNTER FOR TOTAL REWARD\n",
    "\n",
    "        S, X, allowed_a = env.Initialise_game()  ## INITIALISE GAME\n",
    "        X = X.reshape(len(X), 1)\n",
    "\n",
    "        if n > 0 and n % 100 == 0:\n",
    "            print(f\"\\rEp.: {n}, epsilon: {epsilon_f:.3f}, moves: {np.mean(count[n - 100:]):.2f}\", end=\"\")\n",
    "\n",
    "        Q_values, H, Z1, Z2 = network.forward(X)\n",
    "        masked_Q_values = Q_values - (1 - allowed_a) * 100_000\n",
    "        a_agent = epsilon_greedy_policy(masked_Q_values, epsilon_f).T\n",
    "\n",
    "        while Done == 0:  ## START THE EPISODE\n",
    "\n",
    "            S_next, X_next, allowed_a_next, R, Done = env.OneStep(np.argmax(a_agent))\n",
    "            X_next = np.array(X_next).reshape(len(X_next), 1)\n",
    "            total_reward += R\n",
    "\n",
    "            ## THE EPISODE HAS ENDED, UPDATE...BE CAREFUL, THIS IS THE LAST STEP OF THE EPISODE\n",
    "            if Done == 1:\n",
    "                output = Q_values * a_agent\n",
    "                target = R * a_agent\n",
    "                network.descent(X, target, H, output, Z1, Z2)\n",
    "                count.append(i)\n",
    "                rewards.append(total_reward)\n",
    "                break\n",
    "\n",
    "            # IF THE EPISODE IS NOT OVER...\n",
    "            else:\n",
    "                Q_values_next, H_next, Z1_next, Z2_next = network.forward(X_next)\n",
    "                masked_Q_values_next = Q_values_next - (1 - allowed_a_next) * 100000\n",
    "                # Q-Learning chooses the next step greedily (epsilon=0)\n",
    "                a_agent_next = epsilon_greedy_policy(masked_Q_values_next, 0.0).T\n",
    "                future_R = Q_values_next[np.argmax(a_agent_next)]\n",
    "                output = Q_values * a_agent\n",
    "                target = (R + gamma * future_R) * a_agent\n",
    "                network.descent(X, target, H, output, Z1, Z2)\n",
    "\n",
    "            # NEXT STATE AND CO. BECOME ACTUAL STATE...     \n",
    "            S = np.copy(S_next)\n",
    "            X = np.copy(X_next)\n",
    "            allowed_a = np.copy(allowed_a_next)\n",
    "            Q_values = np.copy(Q_values_next)\n",
    "            H = np.copy(H_next)\n",
    "            Z1 = np.copy(Z1_next)\n",
    "            Z2 = np.copy(Z2_next)\n",
    "            # Q-Learning chooses next action based on greedy policty\n",
    "            a_agent = epsilon_greedy_policy(masked_Q_values_next, epsilon_f).T\n",
    "\n",
    "            i += 1  # UPDATE COUNTER FOR NUMBER OF ACTIONS\n",
    "    return count, rewards"
   ]
  },
  {
   "cell_type": "code",
   "execution_count": null,
   "outputs": [],
   "source": [
    "## INITALISE YOUR NEURAL NETWORK...\n",
    "network_qlearn = Network(N_h, N_in, N_a, eta=eta)"
   ],
   "metadata": {
    "collapsed": false,
    "pycharm": {
     "name": "#%%\n"
    }
   }
  },
  {
   "cell_type": "code",
   "execution_count": null,
   "outputs": [],
   "source": [
    "train_and_test(qlearn, network_qlearn, \"Q-Learning\")"
   ],
   "metadata": {
    "collapsed": false,
    "pycharm": {
     "name": "#%%\n"
    }
   }
  },
  {
   "cell_type": "markdown",
   "id": "c71a35fb",
   "metadata": {},
   "source": [
    "### Experience Replay"
   ]
  },
  {
   "cell_type": "code",
   "execution_count": null,
   "id": "fe2ee3a7",
   "metadata": {},
   "outputs": [],
   "source": [
    "class Experience:\n",
    "    def __init__(self, state_before, state_after, action, reward):\n",
    "        self.state_before = state_before\n",
    "        self.state_after = state_after\n",
    "        self.action = action\n",
    "        self.reward = reward"
   ]
  },
  {
   "cell_type": "code",
   "execution_count": null,
   "id": "b8e4c0ad",
   "metadata": {},
   "outputs": [],
   "source": [
    "def replay(network):\n",
    "    count = []\n",
    "    rewards = []\n",
    "    \n",
    "    experiences = []\n",
    "    batch_size = 50\n",
    "    relevant_histories = 300\n",
    "    \n",
    "    for n in range(int(N_episodes/5)):\n",
    "\n",
    "        epsilon_f = epsilon_0 / (1 + beta * n)  ## DECAYING EPSILON\n",
    "\n",
    "        Done = 0  ## SET DONE TO ZERO (BEGINNING OF THE EPISODE)\n",
    "        i = 1  ## COUNTER FOR NUMBER OF ACTIONS\n",
    "        total_reward = 0 ## COUNTER FOR TOTAL REWARD\n",
    "\n",
    "        S, X, allowed_a = env.Initialise_game()  ## INITIALISE GAME\n",
    "        X = X.reshape(len(X), 1)\n",
    "\n",
    "        if n > 0 and n % 100 == 0:\n",
    "            print(f\"\\rEp.: {n}, epsilon: {epsilon_f:.3f}, moves: {np.mean(count[n - 100:]):.2f}\", end=\"\")\n",
    "\n",
    "        while Done == 0:  ## START THE EPISODE\n",
    "            \n",
    "            Q_values, H, Z1, Z2 = network.forward(X)\n",
    "            masked_Q_values = Q_values - (1 - allowed_a) * 100_000\n",
    "            a_agent = epsilon_greedy_policy(masked_Q_values, epsilon_f).T\n",
    "\n",
    "            S_next, X_next, allowed_a_next, R, Done = env.OneStep(np.argmax(a_agent))\n",
    "            X_next = np.array(X_next).reshape(len(X_next), 1)\n",
    "            total_reward += R\n",
    "            \n",
    "            if X_next.shape[0] == 0:\n",
    "                expi = Experience(X, X, a_agent, R)\n",
    "            else:\n",
    "                expi = Experience(X, X_next, a_agent, R)\n",
    "            experiences.append(expi)\n",
    "            \n",
    "            if len(experiences) > relevant_histories:\n",
    "                experiences = experiences[1:]\n",
    "                training_set = np.random.choice(experiences, batch_size, False)\n",
    "                \n",
    "                state_before = np.hstack([experience.state_before for experience in training_set])\n",
    "                Q_values_before, H_before, Z1_before, Z2_before = network.forward(state_before)\n",
    "                \n",
    "                actions = np.hstack([experience.action for experience in training_set])\n",
    "                Q_values_played = Q_values_before * actions\n",
    "                \n",
    "                states_after = np.hstack([experience.state_after for experience in training_set])\n",
    "                Q_values_after, _, _, _ = network.forward(states_after)\n",
    "\n",
    "                Q_values_after_played = np.max(Q_values_after, 0)\n",
    "                \n",
    "                rewards_played = np.hstack([experience.reward for experience in training_set])\n",
    "                \n",
    "                target = (rewards_played + gamma * Q_values_after_played) * actions\n",
    "                network.descent(state_before, target, H_before, Q_values_played, Z1_before, Z2_before)\n",
    "                \n",
    "            ## THE EPISODE HAS ENDED, UPDATE...BE CAREFUL, THIS IS THE LAST STEP OF THE EPISODE\n",
    "            if Done == 1:\n",
    "                count.append(i)\n",
    "                rewards.append(total_reward)\n",
    "                break\n",
    "                \n",
    "            allowed_a = np.copy(allowed_a_next)\n",
    "\n",
    "            i += 1  # UPDATE COUNTER FOR NUMBER OF ACTIONS\n",
    "    return count, rewards"
   ]
  },
  {
   "cell_type": "code",
   "execution_count": null,
   "outputs": [],
   "source": [
    "## INITALISE YOUR NEURAL NETWORK...\n",
    "network_replay = Network(N_h, N_in, N_a, eta=eta)"
   ],
   "metadata": {
    "collapsed": false,
    "pycharm": {
     "name": "#%%\n"
    }
   }
  },
  {
   "cell_type": "code",
   "execution_count": null,
   "outputs": [],
   "source": [
    "train_and_test(replay, network_replay, \"Experience Replay\")"
   ],
   "metadata": {
    "collapsed": false,
    "pycharm": {
     "name": "#%%\n"
    }
   }
  },
  {
   "cell_type": "markdown",
   "id": "c1e7525e",
   "metadata": {},
   "source": [
    "## Task 6a\n",
    "We changed the administration of rewards as follows: Every regular action / move gets a slight punishment of -0.01, while a checkmate results in a reward of 1.0 and stale in a punishment of -1.0.\n"
   ]
  },
  {
   "cell_type": "code",
   "execution_count": null,
   "outputs": [],
   "source": [
    "env = Chess_Env(size_board, R=-0.01, R_draw=-1.0, R_checked=1.0)\n",
    "\n",
    "## INITALISE YOUR NEURAL NETWORK...\n",
    "network_simplified_a = Network(N_h, N_in, N_a, eta=eta)"
   ],
   "metadata": {
    "collapsed": false,
    "pycharm": {
     "name": "#%%\n"
    }
   }
  },
  {
   "cell_type": "code",
   "execution_count": null,
   "outputs": [],
   "source": [
    "train_and_test(qlearn, network_simplified_a, \"Q-Learning Simplified A\")"
   ],
   "metadata": {
    "collapsed": false,
    "pycharm": {
     "name": "#%%\n"
    }
   }
  },
  {
   "cell_type": "markdown",
   "source": [
    "## Task 6b\n",
    "We removed the additional input in the state representation (number of possible moves for opponent king, information about checked-state)."
   ],
   "metadata": {
    "collapsed": false
   }
  },
  {
   "cell_type": "code",
   "execution_count": null,
   "id": "f7ec5e5e",
   "metadata": {},
   "outputs": [],
   "source": [
    "env = Chess_Env(size_board, extended_features=False)\n",
    "_, X, _ = env.Initialise_game()\n",
    "\n",
    "N_in_s = np.shape(X)[0]  ## INPUT SIZE\n",
    "\n",
    "## INITALISE YOUR NEURAL NETWORK...\n",
    "network_simplified_b = Network(N_h, N_in_s, N_a, eta=eta)"
   ]
  },
  {
   "cell_type": "code",
   "execution_count": null,
   "outputs": [],
   "source": [
    "train_and_test(qlearn, network_simplified_b, \"Q-Learning Simplified B\")"
   ],
   "metadata": {
    "collapsed": false,
    "pycharm": {
     "name": "#%%\n"
    }
   }
  },
  {
   "cell_type": "markdown",
   "id": "ea16443f",
   "metadata": {},
   "source": [
    "## Task 7\n",
    "We implemented RMSProp as part of the Network class."
   ]
  },
  {
   "cell_type": "code",
   "execution_count": null,
   "id": "1ebce812",
   "metadata": {
    "pycharm": {
     "name": "#%%\n"
    }
   },
   "outputs": [],
   "source": [
    "env = Chess_Env(size_board)\n",
    "\n",
    "## INITALISE YOUR NEURAL NETWORK...\n",
    "network_qlearn_rmsprop = Network(N_h, N_in, N_a, eta=eta, rmsprop=True)"
   ]
  },
  {
   "cell_type": "code",
   "execution_count": null,
   "outputs": [],
   "source": [
    "train_and_test(qlearn, network_qlearn_rmsprop, \"Q-Learning RMSprop\")"
   ],
   "metadata": {
    "collapsed": false,
    "pycharm": {
     "name": "#%%\n"
    }
   }
  }
 ],
 "metadata": {
  "kernelspec": {
   "display_name": "Python 3 (ipykernel)",
   "language": "python",
   "name": "python3"
  },
  "language_info": {
   "codemirror_mode": {
    "name": "ipython",
    "version": 3
   },
   "file_extension": ".py",
   "mimetype": "text/x-python",
   "name": "python",
   "nbconvert_exporter": "python",
   "pygments_lexer": "ipython3",
   "version": "3.9.7"
  }
 },
 "nbformat": 4,
 "nbformat_minor": 5
}