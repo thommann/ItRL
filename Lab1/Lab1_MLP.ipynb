{
 "cells": [
  {
   "cell_type": "markdown",
   "metadata": {},
   "source": [
    "# Lab Overview\n",
    "\n",
    "## Introduction\n",
    "- Assume a neural network composed of three layers of neurons: input layer, hidden layer and output layer. We wish to train this network so when it is presented with a specific input it will have a certain output.\n",
    "- For this lab we are going to work with the [MNIST database of handwritten digits](http://yann.lecun.com/exdb/mnist) and train our network to recognise handwritten 0-9 digits. The MNIST database contains 60000 images which can used to train the network and 10000 more images for testing purposes. Each image is an  matrix representing a digit."
   ]
  },
  {
   "cell_type": "markdown",
   "metadata": {},
   "source": [
    "<img src=\"Lab1_NetworkScheme.jpg\" width=\"800\" height=\"600\">"
   ]
  },
  {
   "cell_type": "markdown",
   "metadata": {},
   "source": [
    "## The neural network\n",
    "\n",
    "### Network initialisation\n",
    "\n",
    "\n",
    "1. Generate a set of weights between the input and the hidden layer. The input layer should have 784 neurons, one for each pixel of the image.\n",
    "\n",
    "2. Generate a set of weights between the hidden and the output layer. The output layer should have 10 neurons, one for each digit.\n",
    "\n",
    "3. Generate two sets of bias, one for the hidden layer and one for the output layer. Bias is set to 0 to start with \n",
    "\n",
    "\n",
    "### Feedforward\n",
    "\n",
    "\n",
    "1. Feed an image $\\vec{x(\\mu)}$ to the network,\n",
    "   \n",
    "\n",
    "2. Compute the input to each of the neurons of the hidden layer, $h^{(1)}_i = \\sum_{i=1}^{784}w^{(1)}_{ij} x^{(0)}_j + b^{(1)}_i$ and their outputs with the use of the [sigmoid function](http://mathworld.wolfram.com/SigmoidFunction.html),$x^{(1)}_i = f(h^{(1)}_i) = \\frac{1}{(1+e^{-h^{(1)}_i})}$.\n",
    "\n",
    "3. Repeat for the output layer, $h^{(2)}_i = \\sum_{i=1}^{784}w^{(2)}_{ij} x^{(1)}_j + b^{(2)}_i$ and their outputs, $x^{(2)}_i = f(h^{(2)}_i)$\n",
    "\n",
    "<img src=\"nn2.jpg\"  width=\"800\" height=\"600\">\n",
    "\n",
    "\n",
    "### Error\n",
    "\n",
    "1. Calculate the error in the output of the neural network. If the input is an image of a zero digit it is expected that the first neuron of the input layer to be fully active, i.e has an output of 1, while the other neurons have outputs of 0. Thus the target output would be $t = [1,0,0,\\dots,0]^T$ and, given that the output of the neural network is some $output$, the error is given by the formula $$E(\\mu) = \\sum_{i=1}^{n}\\frac{1}{2}(t_i(\\mu)-x^{(2)}_i(\\mu))^2,$$ where $n$ is the number of neurons in the output layer of the network and $\\mu$ is sample index. The total error per sample is then given by $$E/N = \\sum_{\\mu=1}^N \\sum_{i=1}^{n}\\frac{1}{2N}(t_i(\\mu)-x^{(2)}_i(\\mu))^2.$$\n",
    "\n",
    "\n",
    "\n",
    "### Backpropagation\n",
    "Here we will consider explicitly the logistic sigmoid activation function so we can use the result that the derivative of the logistic sigmoid is\n",
    "$$ f'(h) = \\frac{\\partial f(h) }{\\partial h } = f(h)(1-f(h)) $$ directly in the update rules.\n",
    "\n",
    "1. Apply the delta rule between the output and the hidden layers. For the weight $w_{ij}$ we have \n",
    "\n",
    "$$\\frac{\\partial E}{\\partial w_{\\textrm{ij}} }=\\frac{\\partial E}{\\partial x^{(2)}_i }\\;\\frac{\\partial x^{(2)}_i }{\\partial h^{(2)}_i } \\; \\frac{\\partial h^{(2)}_i }{\\partial w_{\\textrm{ij}} } \\; =-\\left( t_i -x^{(2)}_i \\right)\\; x^{(2)}_i \\;\\left(1-x^{(2)}_i \\right) \\; x^{(1)}_j,$$ \n",
    "\n",
    "and we can define  $\\delta^{(2)}_i = \\left(t_i - x^{(2)}_i \\right)x^{(2)}_i \\;\\left(1-x^{(2)}_i \\right) $.\n",
    "\n",
    "2. Update the weights between the hidden and the output layers.  For the weight $w_{ij}$ we have the update after a single input $${\\Delta w}_{\\textrm{ij}} = \\eta \\delta^{(2)}_i x^{(1)}_j.$$\n",
    "\n",
    "3. Repeat steps 1 and 2 between the hidden and the input layes and update the weights between them. Here for the weight $w_{ij}$ we have \n",
    "$$\\frac{\\partial E}{\\partial w_{\\textrm{ij}} }=\\frac{\\partial E}{\\partial x^{(1)}_j }\\;\\frac{\\partial x^{(1)}_j }{\\partial h^{(1)}_j }\\;\\frac{\\partial h^{(1)}_j }{\\partial w_{\\textrm{ij}} }\n",
    "=x^{(0)}_j x^{(1)}_i \\;\\left(1-x^{(1)}_i \\right) \\sum_k \\left(w^{(2)}_{\\textrm{ki}} \\delta^{(2)}_k \\right),$$ where the terms $w_{\\textrm{ij}}^{\\left(2\\right)}, \\delta_j^{\\left(2\\right)}$ are the weights and the delta function of the previous layer. So now we can defined the backpropagated local gradient for the hidden layer as\n",
    "$$ \\delta_i^{(1)} = x^{(1)}_i \\;\\left(1-x^{(1)}_i \\right) \\sum_j \\delta^{(2)}_j w^{(2)}_{ji}. $$\n",
    "\n",
    "4. Update the weights between the hidden and the input layers. For the weight $w_{ij}$ we have $${\\Delta w}_{\\textrm{ij}} =\\eta \\delta^{(1)}_i x^{(0)}_j.$$\n"
   ]
  },
  {
   "cell_type": "markdown",
   "metadata": {},
   "source": [
    "## Exercises\n",
    "\n",
    "The code provided first loads the MNIST database and generates a neural network using the parameters provided. Then it trains the network and tests it using the testing set of the MNIST database.\n",
    "\n",
    "1. Test the network using the test dataset, then compute and comment on it's accuracy.\n",
    "\n",
    "\n",
    "2. The weights are generated from a uniform distribution in the interval (0,1) and are then normalized using the sum equals to 1 normalization, i.e the summation of the inputs should be equal to 1. Why is this normalization important? Another initialisation method is the [Xavier initialization](http://www.jmlr.org/proceedings/papers/v9/glorot10a/glorot10a.pdf?hc_location=ufi), which is more commonly used in deep neural networks of more than one hidden layer. In this initialisation the weights are initialised using normally distributed random numbers which are then scaled by sqrt(1/n_cols). Change your initialisation to this and comment on how this changes the training.\n",
    "\n",
    "\n",
    "3. The weights are updated through mini-batches. Change the mini-batch size and see the effect that this has on performance and\n",
    "   computational speed. What are the limits in defining a mini-batch size?\n",
    "\n",
    "\n",
    "4. A bias is included in the calculation of the activation but is set to zero and is not trained. Derive the learning rule and code the training of the bias alongside the weights. It may help to think of the bias as an extra weight where the input value is fixed to 1.\n",
    "\n",
    "\n",
    "5. Upgrade the network by adding one more hidden layer, derive the appropriate formulas for the feedforward and the backpropagation and program them.\n",
    "\n",
    "\n",
    "6. Try to use ten classes and to optimise the network hyperparameters."
   ]
  },
  {
   "cell_type": "code",
   "execution_count": 72,
   "metadata": {},
   "outputs": [],
   "source": [
    "import time\n",
    "\n",
    "import numpy as np\n",
    "import numpy.matlib \n",
    "import math\n",
    "import matplotlib.pyplot as plt\n",
    "import csv"
   ]
  },
  {
   "cell_type": "code",
   "execution_count": 73,
   "metadata": {},
   "outputs": [],
   "source": [
    "# Load the MNIST dataset:\n",
    "#     The MNIST dataset contains 60,000 training samples.\n",
    "#     To start with we will limit this to 5 classes (the first 5 digits in the dataset) to simplify development\n",
    "#     Reading the data file gives an array of img_size by no. of samples\n",
    "#     so we will work on the transposed array instead \n",
    "\n",
    "from scipy.io import loadmat\n",
    "\n",
    "mnist = loadmat('MNIST.mat')\n",
    "\n",
    "# Read the train set\n",
    "x_train = mnist['x_train']\n",
    "# Read the train labels\n",
    "trainlabels = mnist['trainlabels']\n",
    "\n",
    "# Read the test set\n",
    "x_test = mnist['x_test']\n",
    "# Read the test labels\n",
    "testlabels = mnist['testlabels']\n",
    "\n",
    "#We select the data for three classes that we want to classify\n",
    "\n",
    "N_class=10\n",
    "\n",
    "Index_tr=[]\n",
    "Index_te=[]\n",
    "\n",
    "for i in range(N_class):\n",
    "    \n",
    "    #Find the indexes of the training set corresponding to class i\n",
    "    ind_tr=np.where(trainlabels==i)[0]\n",
    "    #Find the indexes of the test set corresponding to class i\n",
    "    ind_te=np.where(testlabels==i)[0]\n",
    "    \n",
    "    # Append the training indexes in a list\n",
    "    Index_tr.append(ind_tr)\n",
    "    # Append the testing indexes in a list\n",
    "    Index_te.append(ind_te)\n",
    "\n",
    "# Reshape the lists to be a 1-d array    \n",
    "Index_tr=np.concatenate(Index_tr,axis=0)\n",
    "Index_te=np.concatenate(Index_te,axis=0)\n",
    "\n",
    "# Create a training set and a test set with data belonging to the classes considered only\n",
    "x_train=np.copy(x_train[Index_tr,:])\n",
    "x_test=np.copy(x_test[Index_te,:])\n",
    "\n",
    "# Compute the size of the train and test datasets\n",
    "N_tr=np.shape(Index_tr)[0]\n",
    "N_te=np.shape(Index_te)[0]\n",
    "\n",
    "# Create one-hot encoding labels for train and test datasets\n",
    "y_train=np.zeros([N_tr,N_class])\n",
    "y_test=np.zeros([N_te,N_class])\n",
    "\n",
    "for i in range(N_tr):\n",
    "    \n",
    "    y_train[i,int(trainlabels[Index_tr[i]])]=1\n",
    "\n",
    "for i in range(N_te):\n",
    "\n",
    "    y_test[i,int(testlabels[Index_te[i]])]=1\n",
    "\n",
    "    \n",
    "n_samples, img_size = x_train.shape\n"
   ]
  },
  {
   "cell_type": "code",
   "execution_count": 74,
   "metadata": {},
   "outputs": [
    {
     "data": {
      "text/plain": "<Figure size 432x288 with 1 Axes>",
      "image/png": "[encoded data removed]"
     },
     "metadata": {
      "needs_background": "light"
     },
     "output_type": "display_data"
    }
   ],
   "source": [
    "# Example of image, take the transpose to see it in the right orientation\n",
    "example_image=np.reshape(x_train[0],(28,28))\n",
    "plt.imshow(example_image.T)\n",
    "plt.show()"
   ]
  },
  {
   "cell_type": "code",
   "execution_count": 75,
   "metadata": {},
   "outputs": [],
   "source": [
    "# The number of epochs is a hyperparameter that defines the number times that the learning algorithm \n",
    "# will work through the entire training dataset.\n",
    "\n",
    "# The batch size is a hyperparameter that defines the number of samples to work through before \n",
    "# updating the internal model parameters. \n",
    "\n",
    "# ref: https://machinelearningmastery.com/difference-between-a-batch-and-an-epoch/\n",
    "\n",
    "# define the size of each of the layers in the network\n",
    "n_input_layer  = img_size\n",
    "n_hidden_layer = 100\n",
    "n_output_layer = N_class\n",
    "\n",
    "# Add another hidden layer\n",
    "n_hidden_layer_2 = 100 # number of neurons of the hidden layer. 0 deletes this layer\n",
    "\n",
    "# eta is the learning rate\n",
    "eta = 0.05"
   ]
  },
  {
   "cell_type": "code",
   "execution_count": 76,
   "metadata": {
    "scrolled": true
   },
   "outputs": [],
   "source": [
    "# Train the network\n",
    "class Network:\n",
    "    # Initialize a simple network\n",
    "    # For W1 and W2 columns are the input and the rows are the output.\n",
    "    # W1: Number of columns (input) needs to be equal to the number of features\n",
    "    #     of the  MNIST digits, thus p. Number of rows (output) should be equal\n",
    "    #     to the number of neurons of the hidden layer thus n_hidden_layer.\n",
    "    # W2: Number of columns (input) needs to be equal to the number of neurons\n",
    "    #     of the hidden layer. Number of rows (output) should be equal to the\n",
    "    #     number of digits we wish to find (classification).\n",
    "    def __init__(self, initialization=\"uniform\", bias=False, hidden_layer_2=False):\n",
    "\n",
    "        if initialization == \"uniform\":\n",
    "            self.W1 = np.random.uniform(0, 1, (n_hidden_layer, n_input_layer))\n",
    "            self.W2 = np.random.uniform(0, 1, (n_output_layer, n_hidden_layer))\n",
    "\n",
    "            # The following normalises the random weights so that the sum of each row =1\n",
    "            self.W1 = np.divide(self.W1, np.matlib.repmat(np.sum(self.W1, 1)[:, None], 1, n_input_layer))\n",
    "            self.W2 = np.divide(self.W2, np.matlib.repmat(np.sum(self.W2, 1)[:, None], 1, n_hidden_layer))\n",
    "            \n",
    "            if hidden_layer_2:\n",
    "                self.W2 = np.random.uniform(0, 1, (n_hidden_layer_2, n_hidden_layer))\n",
    "                self.W3 = np.random.uniform(0, 1, (n_output_layer, n_hidden_layer_2))\n",
    "                \n",
    "                self.W2 = np.divide(self.W2, np.matlib.repmat(np.sum(self.W2, 1)[:, None], 1, n_hidden_layer))\n",
    "                self.W3 = np.divide(self.W3, np.matlib.repmat(np.sum(self.W3, 1)[:, None], 1, n_hidden_layer_2))\n",
    "\n",
    "\n",
    "        elif initialization == \"xavier\":\n",
    "            # Xavier initialization\n",
    "            self.W1 = np.random.normal(0, 1, (n_hidden_layer, n_input_layer))\n",
    "            self.W2 = np.random.normal(0, 1, (n_output_layer, n_hidden_layer))\n",
    "\n",
    "            self.W1 = self.W1 * np.sqrt(1/n_input_layer)\n",
    "            self.W2 = self.W2 * np.sqrt(1/n_hidden_layer)\n",
    "            \n",
    "            if hidden_layer_2:\n",
    "                self.W2 = np.random.normal(0, 1, (n_hidden_layer_2, n_hidden_layer))\n",
    "                self.W3 = np.random.normal(0, 1, (n_output_layer, n_hidden_layer_2))\n",
    "                \n",
    "                self.W2 = self.W2 * np.sqrt(1/n_hidden_layer)\n",
    "                self.W3 = self.W3 * np.sqrt(1/n_hidden_layer_2)\n",
    "\n",
    "        # Initialize the biases\n",
    "        self.bias_W1 = np.zeros((n_hidden_layer,))\n",
    "        self.bias_W2 = np.zeros((n_output_layer,))\n",
    "        \n",
    "        if hidden_layer_2:\n",
    "            self.bias_W2 = np.zeros((n_hidden_layer_2,))\n",
    "            self.bias_W3 = np.zeros((n_output_layer,))\n",
    "\n",
    "        # Initialise the gradients for each batch\n",
    "        self.dW1 = np.zeros(self.W1.shape)\n",
    "        self.dW2 = np.zeros(self.W2.shape)\n",
    "\n",
    "        self.dbias_W1 = np.zeros(self.bias_W1.shape)\n",
    "        self.dbias_W2 = np.zeros(self.bias_W2.shape)\n",
    "        \n",
    "        if hidden_layer_2:\n",
    "            self.dW3 = np.zeros(self.W3.shape)\n",
    "            self.dbias_W3 = np.zeros(self.bias_W3.shape)\n",
    "\n",
    "        self.batch_size = 0\n",
    "        self.hidden_layer_2 = hidden_layer_2\n",
    "        self.bias = bias\n",
    "\n",
    "\n",
    "    def forward(self, x_0):\n",
    "        # Neural activation: input layer -> hidden layer\n",
    "        h_1 = np.dot(self.W1,x_0)+self.bias_W1\n",
    "\n",
    "        # Apply the sigmoid function\n",
    "        x_1 = 1/(1+np.exp(-h_1))\n",
    "\n",
    "        # Neural activation: hidden layer -> output layer\n",
    "        h_2 = np.dot(self.W2,x_1)+self.bias_W2\n",
    "\n",
    "        # Apply the sigmoid function\n",
    "        x_2 = 1/(1+np.exp(-h_2))\n",
    "        \n",
    "        if self.hidden_layer_2:\n",
    "            h_3 = np.dot(self.W3,x_2)+self.bias_W3\n",
    "            x_3 = 1/(1+np.exp(-h_3))\n",
    "            res = np.zeros(x_3.shape)\n",
    "            res[np.argmax(x_3)] = 1\n",
    "        \n",
    "        else:\n",
    "            x_3 = None\n",
    "            res = np.zeros(x_2.shape)\n",
    "            res[np.argmax(x_2)] = 1\n",
    "\n",
    "        return x_1, x_2, x_3, res\n",
    "\n",
    "    def backward(self, x_0, x_1, x_2, x_3, error):\n",
    "        if self.hidden_layer_2:\n",
    "            assert x_3 is not None\n",
    "            delta_3 = x_3 * (1 - x_3) * error\n",
    "            self.dW3 += np.outer(delta_3, x_2)\n",
    "            self.dbias_W3 += delta_3\n",
    "            \n",
    "            delta_2 = x_2 * (1 - x_2) * np.dot(self.W3.T, delta_3)\n",
    "        else:     \n",
    "            assert x_3 is None\n",
    "            # Backpropagation: output layer -> hidden layer\n",
    "            delta_2 = x_2 * (1 - x_2) * error\n",
    "            \n",
    "        self.dW2 += np.outer(delta_2, x_1)\n",
    "        self.dbias_W2 += delta_2\n",
    "\n",
    "        # Backpropagation: hidden layer -> input layer\n",
    "        delta_1 = x_1*(1-x_1) * np.dot(self.W2.T, delta_2)\n",
    "        self.dW1 += np.outer(delta_1, x_0)\n",
    "        self.dbias_W1 += delta_1\n",
    "\n",
    "    def train(self, x_0, y):\n",
    "        self.batch_size += 1\n",
    "\n",
    "        x_1, x_2, x_3, _ = self.forward(x_0)\n",
    "\n",
    "        # Compute the error signal\n",
    "        if self.hidden_layer_2:\n",
    "            error = y - x_3\n",
    "        else:\n",
    "            error = y - x_2\n",
    "\n",
    "        self.backward(x_0, x_1, x_2, x_3, error)\n",
    "\n",
    "        return 0.5 * np.sum(np.square(error))\n",
    "\n",
    "    def step(self):\n",
    "        # After each batch update the weights using accumulated gradients\n",
    "        self.W1 += eta*self.dW1/self.batch_size\n",
    "        self.W2 += eta*self.dW2/self.batch_size\n",
    "\n",
    "        if self.bias:\n",
    "            self.bias_W1 += eta*self.dbias_W1/self.batch_size\n",
    "            self.bias_W2 += eta*self.dbias_W2/self.batch_size\n",
    "\n",
    "        # Initialise the gradients for each batch\n",
    "        self.dW1 = np.zeros(self.W1.shape)\n",
    "        self.dW2 = np.zeros(self.W2.shape)       \n",
    "\n",
    "        self.dbias_W1 = np.zeros(self.bias_W1.shape)\n",
    "        self.dbias_W2 = np.zeros(self.bias_W2.shape)\n",
    "\n",
    "        if self.hidden_layer_2:\n",
    "            self.W3 += eta*self.dW3/self.batch_size\n",
    "            if self.bias:\n",
    "                self.bias_W3 += eta*self.dbias_W3/self.batch_size\n",
    "            self.dW3 = np.zeros(self.W3.shape)\n",
    "            self.dbias_W3 = np.zeros(self.bias_W3.shape)\n",
    "\n",
    "        self.batch_size = 0\n"
   ]
  },
  {
   "cell_type": "code",
   "execution_count": 76,
   "outputs": [],
   "source": [],
   "metadata": {
    "collapsed": false,
    "pycharm": {
     "name": "#%%\n"
    }
   }
  },
  {
   "cell_type": "code",
   "execution_count": 77,
   "outputs": [],
   "source": [
    "def train_network(_network, _batch_size=20, _n_epoch=5):\n",
    "    # Keep track of the network inputs and average error per epoch\n",
    "    _errors = np.zeros((_n_epoch,))\n",
    "\n",
    "    n_batches = int(math.floor(n_samples/_batch_size))\n",
    "\n",
    "    for epoch in range(0,_n_epoch):\n",
    "        # We will shuffle the order of the samples each epoch\n",
    "        shuffled_idxs = np.random.permutation(n_samples)\n",
    "\n",
    "        for batch in range(0,n_batches):\n",
    "\n",
    "            # Loop over all the samples in the batch\n",
    "            for j in range(0,_batch_size):\n",
    "\n",
    "                # Input (random element from the dataset)\n",
    "                idx = shuffled_idxs[batch*_batch_size + j]\n",
    "                x0 = x_train[idx]\n",
    "\n",
    "                # Form the desired output, the correct neuron should have 1 the rest 0\n",
    "                desired_output = y_train[idx]\n",
    "\n",
    "                train_error = _network.train(x0, desired_output)\n",
    "\n",
    "                # Store the error per epoch\n",
    "                _errors[epoch] = _errors[epoch] + train_error/n_samples\n",
    "\n",
    "            _network.step()\n",
    "\n",
    "        print( \"Epoch \", epoch+1, \": error = \", _errors[epoch])\n",
    "\n",
    "    return _errors"
   ],
   "metadata": {
    "collapsed": false,
    "pycharm": {
     "name": "#%%\n"
    }
   }
  },
  {
   "cell_type": "code",
   "execution_count": 78,
   "outputs": [
    {
     "name": "stdout",
     "output_type": "stream",
     "text": [
      "Epoch  1 : error =  0.4531204954137152\n",
      "Epoch  2 : error =  0.4317200484385333\n",
      "Epoch  3 : error =  0.3333053314100306\n",
      "Epoch  4 : error =  0.23651766582236686\n",
      "Epoch  5 : error =  0.18067166022892717\n"
     ]
    }
   ],
   "source": [
    "network = Network()\n",
    "\n",
    "errors = train_network(network)"
   ],
   "metadata": {
    "collapsed": false,
    "pycharm": {
     "name": "#%%\n"
    }
   }
  },
  {
   "cell_type": "code",
   "execution_count": 79,
   "metadata": {},
   "outputs": [],
   "source": [
    "def plot_errors(_errors):\n",
    "    plt.plot(_errors)\n",
    "    plt.xlabel('Epoch')\n",
    "    plt.ylabel('Error')\n",
    "    plt.title('Average error per epoch')\n",
    "    plt.show()"
   ]
  },
  {
   "cell_type": "code",
   "execution_count": 80,
   "outputs": [
    {
     "data": {
      "text/plain": "<Figure size 432x288 with 1 Axes>",
      "image/png": "[encoded data removed]"
     },
     "metadata": {
      "needs_background": "light"
     },
     "output_type": "display_data"
    }
   ],
   "source": [
    "# Plot the performance\n",
    "plot_errors(errors)"
   ],
   "metadata": {
    "collapsed": false,
    "pycharm": {
     "name": "#%%\n"
    }
   }
  },
  {
   "cell_type": "code",
   "execution_count": 81,
   "outputs": [],
   "source": [
    "def calculate_accuracy(_network):\n",
    "    correct = 0\n",
    "    for x, y in zip(x_test, y_test):\n",
    "        _, _, _, result = _network.forward(x)\n",
    "        if np.all(np.equal(result, y)):\n",
    "            correct += 1\n",
    "\n",
    "    return correct / len(x_test)"
   ],
   "metadata": {
    "collapsed": false,
    "pycharm": {
     "name": "#%%\n"
    }
   }
  },
  {
   "cell_type": "code",
   "execution_count": 82,
   "outputs": [
    {
     "name": "stdout",
     "output_type": "stream",
     "text": [
      "Accuracy: 0.8505\n"
     ]
    }
   ],
   "source": [
    "\n",
    "# Exercise 1\n",
    "accuracy = calculate_accuracy(network)\n",
    "print(f\"Accuracy: {accuracy}\")"
   ],
   "metadata": {
    "collapsed": false,
    "pycharm": {
     "name": "#%%\n"
    }
   }
  },
  {
   "cell_type": "code",
   "execution_count": 83,
   "outputs": [
    {
     "name": "stdout",
     "output_type": "stream",
     "text": [
      "Epoch  1 : error =  0.3480209838270706\n",
      "Epoch  2 : error =  0.19044112735218496\n",
      "Epoch  3 : error =  0.13999291283466514\n",
      "Epoch  4 : error =  0.1178770604906987\n",
      "Epoch  5 : error =  0.10594421555965565\n"
     ]
    },
    {
     "data": {
      "text/plain": "<Figure size 432x288 with 1 Axes>",
      "image/png": "[encoded data removed]"
     },
     "metadata": {
      "needs_background": "light"
     },
     "output_type": "display_data"
    },
    {
     "name": "stdout",
     "output_type": "stream",
     "text": [
      "Accuracy: 0.9011\n"
     ]
    }
   ],
   "source": [
    "# Exercise 2\n",
    "xavier_network = Network(initialization=\"xavier\")\n",
    "\n",
    "errors = train_network(xavier_network)\n",
    "\n",
    "plot_errors(errors)\n",
    "\n",
    "accuracy = calculate_accuracy(xavier_network)\n",
    "print(f\"Accuracy: {accuracy}\")"
   ],
   "metadata": {
    "collapsed": false,
    "pycharm": {
     "name": "#%%\n"
    }
   }
  },
  {
   "cell_type": "code",
   "execution_count": 90,
   "outputs": [
    {
     "name": "stdout",
     "output_type": "stream",
     "text": [
      "Batch size: 1\n",
      "Epoch  1 : error =  0.1544600656846488\n",
      "Epoch  2 : error =  0.06067976429404952\n",
      "Epoch  3 : error =  0.04743677527888471\n",
      "Epoch  4 : error =  0.04008354992310103\n",
      "Epoch  5 : error =  0.035084175783825035\n",
      "Epoch  6 : error =  0.03125908317602802\n",
      "Epoch  7 : error =  0.02825370899343744\n",
      "Epoch  8 : error =  0.025828328713723415\n",
      "Epoch  9 : error =  0.02375597179667522\n",
      "Epoch  10 : error =  0.022053875855110216\n",
      "Runtime: 205.87780928611755 s\n",
      "Accuracy: 0.9698\n",
      "\n",
      "Batch size: 15\n",
      "Epoch  1 : error =  0.45175191343714827\n",
      "Epoch  2 : error =  0.3849787156099321\n",
      "Epoch  3 : error =  0.2415955043606904\n",
      "Epoch  4 : error =  0.1680204324765549\n",
      "Epoch  5 : error =  0.13002229923357037\n",
      "Epoch  6 : error =  0.11081774376055382\n",
      "Epoch  7 : error =  0.0997729324977347\n",
      "Epoch  8 : error =  0.09225467611354482\n",
      "Epoch  9 : error =  0.08668120584713197\n",
      "Epoch  10 : error =  0.08226860140967894\n",
      "Runtime: 108.04104208946228 s\n",
      "Accuracy: 0.9174\n",
      "\n",
      "Batch size: 244\n",
      "Epoch  1 : error =  0.4889769977810286\n",
      "Epoch  2 : error =  0.4483261807848712\n",
      "Epoch  3 : error =  0.44828931709425346\n",
      "Epoch  4 : error =  0.44825271198558614\n",
      "Epoch  5 : error =  0.4482096235097225\n",
      "Epoch  6 : error =  0.4481597969701337\n",
      "Epoch  7 : error =  0.44809370392160647\n",
      "Epoch  8 : error =  0.4480122546264379\n",
      "Epoch  9 : error =  0.4479008301969795\n",
      "Epoch  10 : error =  0.4477650512956085\n",
      "Runtime: 100.74713706970215 s\n",
      "Accuracy: 0.1135\n",
      "\n",
      "Batch size: 3833\n",
      "Epoch  1 : error =  0.9566941001042426\n",
      "Epoch  2 : error =  0.5010345473358915\n",
      "Epoch  3 : error =  0.45320575571141064\n",
      "Epoch  4 : error =  0.44068556915920826\n",
      "Epoch  5 : error =  0.4359383080911289\n",
      "Epoch  6 : error =  0.4337746481155775\n",
      "Epoch  7 : error =  0.43267988271499047\n",
      "Epoch  8 : error =  0.4320798436877385\n",
      "Epoch  9 : error =  0.4317337454349678\n",
      "Epoch  10 : error =  0.43153169292982446\n",
      "Runtime: 96.84307289123535 s\n",
      "Accuracy: 0.1135\n",
      "\n",
      "Batch size: 60000\n",
      "Epoch  1 : error =  1.855102201706869\n",
      "Epoch  2 : error =  1.641583937953775\n",
      "Epoch  3 : error =  1.4496686828172078\n",
      "Epoch  4 : error =  1.2834629489111082\n",
      "Epoch  5 : error =  1.1436263876186017\n",
      "Epoch  6 : error =  1.0283019175323835\n",
      "Epoch  7 : error =  0.934304774653739\n",
      "Epoch  8 : error =  0.8580800867277483\n",
      "Epoch  9 : error =  0.7962778416495666\n",
      "Epoch  10 : error =  0.7460085348672189\n",
      "Runtime: 101.9273190498352 s\n",
      "Accuracy: 0.1135\n",
      "\n"
     ]
    }
   ],
   "source": [
    "# Exercise 3\n",
    "batch_sizes = np.array(np.floor(np.logspace(np.log10(1), np.log10(len(x_train)), 5)), dtype=int)\n",
    "\n",
    "for n in batch_sizes:\n",
    "    print(\"Batch size:\", n)\n",
    "    network = Network()\n",
    "\n",
    "    start = time.time()\n",
    "    train_network(network, _batch_size=n, _n_epoch=10)\n",
    "    stop = time.time()\n",
    "\n",
    "    runtime = stop - start\n",
    "    accuracy = calculate_accuracy(network)\n",
    "    print(\"Runtime:\", runtime, \"s\")\n",
    "    print(\"Accuracy:\", accuracy)\n",
    "    print()"
   ],
   "metadata": {
    "collapsed": false,
    "pycharm": {
     "name": "#%%\n"
    }
   }
  },
  {
   "cell_type": "code",
   "execution_count": 1,
   "outputs": [
    {
     "ename": "NameError",
     "evalue": "name 'Network' is not defined",
     "output_type": "error",
     "traceback": [
      "\u001B[0;31m---------------------------------------------------------------------------\u001B[0m",
      "\u001B[0;31mNameError\u001B[0m                                 Traceback (most recent call last)",
      "Input \u001B[0;32mIn [1]\u001B[0m, in \u001B[0;36m<module>\u001B[0;34m\u001B[0m\n\u001B[1;32m      1\u001B[0m \u001B[38;5;66;03m# Exercise 4\u001B[39;00m\n\u001B[0;32m----> 2\u001B[0m bias_network \u001B[38;5;241m=\u001B[39m \u001B[43mNetwork\u001B[49m(initialization\u001B[38;5;241m=\u001B[39m\u001B[38;5;124m\"\u001B[39m\u001B[38;5;124mxavier\u001B[39m\u001B[38;5;124m\"\u001B[39m, bias\u001B[38;5;241m=\u001B[39m\u001B[38;5;28;01mTrue\u001B[39;00m)\n\u001B[1;32m      4\u001B[0m train_network(bias_network)\n\u001B[1;32m      6\u001B[0m accuracy \u001B[38;5;241m=\u001B[39m calculate_accuracy(bias_network)\n",
      "\u001B[0;31mNameError\u001B[0m: name 'Network' is not defined"
     ]
    }
   ],
   "source": [
    "# Exercise 4\n",
    "bias_network = Network(initialization=\"xavier\", bias=True)\n",
    "\n",
    "train_network(bias_network)\n",
    "\n",
    "accuracy = calculate_accuracy(bias_network)\n",
    "print(f\"Accuracy: {accuracy}\")"
   ],
   "metadata": {
    "collapsed": false,
    "pycharm": {
     "name": "#%%\n"
    }
   }
  },
  {
   "cell_type": "code",
   "execution_count": 2,
   "outputs": [
    {
     "ename": "NameError",
     "evalue": "name 'Network' is not defined",
     "output_type": "error",
     "traceback": [
      "\u001B[0;31m---------------------------------------------------------------------------\u001B[0m",
      "\u001B[0;31mNameError\u001B[0m                                 Traceback (most recent call last)",
      "Input \u001B[0;32mIn [2]\u001B[0m, in \u001B[0;36m<module>\u001B[0;34m\u001B[0m\n\u001B[1;32m      1\u001B[0m \u001B[38;5;66;03m# Exercise 5\u001B[39;00m\n\u001B[0;32m----> 2\u001B[0m deep_network \u001B[38;5;241m=\u001B[39m \u001B[43mNetwork\u001B[49m(initialization\u001B[38;5;241m=\u001B[39m\u001B[38;5;124m\"\u001B[39m\u001B[38;5;124mxavier\u001B[39m\u001B[38;5;124m\"\u001B[39m, bias\u001B[38;5;241m=\u001B[39m\u001B[38;5;28;01mTrue\u001B[39;00m, hidden_layer_2\u001B[38;5;241m=\u001B[39m\u001B[38;5;28;01mTrue\u001B[39;00m)\n\u001B[1;32m      4\u001B[0m train_network(deep_network)\n\u001B[1;32m      6\u001B[0m accuracy \u001B[38;5;241m=\u001B[39m calculate_accuracy(deep_network)\n",
      "\u001B[0;31mNameError\u001B[0m: name 'Network' is not defined"
     ]
    }
   ],
   "source": [
    "# Exercise 5\n",
    "deep_network = Network(initialization=\"xavier\", bias=True, hidden_layer_2=True)\n",
    "\n",
    "train_network(deep_network)\n",
    "\n",
    "accuracy = calculate_accuracy(deep_network)\n",
    "print(f\"Accuracy: {accuracy}\")"
   ],
   "metadata": {
    "collapsed": false,
    "pycharm": {
     "name": "#%%\n"
    }
   }
  },
  {
   "cell_type": "code",
   "execution_count": null,
   "outputs": [],
   "source": [],
   "metadata": {
    "collapsed": false,
    "pycharm": {
     "name": "#%%\n"
    }
   }
  }
 ],
 "metadata": {
  "kernelspec": {
   "display_name": "Python 3 (ipykernel)",
   "language": "python",
   "name": "python3"
  },
  "language_info": {
   "codemirror_mode": {
    "name": "ipython",
    "version": 3
   },
   "file_extension": ".py",
   "mimetype": "text/x-python",
   "name": "python",
   "nbconvert_exporter": "python",
   "pygments_lexer": "ipython3",
   "version": "3.9.10"
  }
 },
 "nbformat": 4,
 "nbformat_minor": 2
}