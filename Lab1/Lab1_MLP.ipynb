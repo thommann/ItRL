{
 "cells": [
  {
   "cell_type": "markdown",
   "metadata": {},
   "source": [
    "# Lab Overview\n",
    "\n",
    "## Introduction\n",
    "- Assume a neural network composed of three layers of neurons: input layer, hidden layer and output layer. We wish to train this network so when it is presented with a specific input it will have a certain output.\n",
    "- For this lab we are going to work with the [MNIST database of handwritten digits](http://yann.lecun.com/exdb/mnist) and train our network to recognise handwritten 0-9 digits. The MNIST database contains 60000 images which can used to train the network and 10000 more images for testing purposes. Each image is an  matrix representing a digit."
   ]
  },
  {
   "cell_type": "markdown",
   "metadata": {},
   "source": [
    "<img src=\"Lab1_NetworkScheme.jpg\" width=\"800\" height=\"600\">"
   ]
  },
  {
   "cell_type": "markdown",
   "metadata": {},
   "source": [
    "## The neural network\n",
    "\n",
    "### Network initialisation\n",
    "\n",
    "\n",
    "1. Generate a set of weights between the input and the hidden layer. The input layer should have 784 neurons, one for each pixel of the image.\n",
    "\n",
    "2. Generate a set of weights between the hidden and the output layer. The output layer should have 10 neurons, one for each digit.\n",
    "\n",
    "3. Generate two sets of bias, one for the hidden layer and one for the output layer. Bias is set to 0 to start with \n",
    "\n",
    "\n",
    "### Feedforward\n",
    "\n",
    "\n",
    "1. Feed an image $\\vec{x(\\mu)}$ to the network,\n",
    "   \n",
    "\n",
    "2. Compute the input to each of the neurons of the hidden layer, $h^{(1)}_i = \\sum_{i=1}^{784}w^{(1)}_{ij} x^{(0)}_j + b^{(1)}_i$ and their outputs with the use of the [sigmoid function](http://mathworld.wolfram.com/SigmoidFunction.html),$x^{(1)}_i = f(h^{(1)}_i) = \\frac{1}{(1+e^{-h^{(1)}_i})}$.\n",
    "\n",
    "3. Repeat for the output layer, $h^{(2)}_i = \\sum_{i=1}^{784}w^{(2)}_{ij} x^{(1)}_j + b^{(2)}_i$ and their outputs, $x^{(2)}_i = f(h^{(2)}_i)$\n",
    "\n",
    "<img src=\"nn2.jpg\"  width=\"800\" height=\"600\">\n",
    "\n",
    "\n",
    "### Error\n",
    "\n",
    "1. Calculate the error in the output of the neural network. If the input is an image of a zero digit it is expected that the first neuron of the input layer to be fully active, i.e has an output of 1, while the other neurons have outputs of 0. Thus the target output would be $t = [1,0,0,\\dots,0]^T$ and, given that the output of the neural network is some $output$, the error is given by the formula $$E(\\mu) = \\sum_{i=1}^{n}\\frac{1}{2}(t_i(\\mu)-x^{(2)}_i(\\mu))^2,$$ where $n$ is the number of neurons in the output layer of the network and $\\mu$ is sample index. The total error per sample is then given by $$E/N = \\sum_{\\mu=1}^N \\sum_{i=1}^{n}\\frac{1}{2N}(t_i(\\mu)-x^{(2)}_i(\\mu))^2.$$\n",
    "\n",
    "\n",
    "\n",
    "### Backpropagation\n",
    "Here we will consider explicitly the logistic sigmoid activation function so we can use the result that the derivative of the logistic sigmoid is\n",
    "$$ f'(h) = \\frac{\\partial f(h) }{\\partial h } = f(h)(1-f(h)) $$ directly in the update rules.\n",
    "\n",
    "1. Apply the delta rule between the output and the hidden layers. For the weight $w_{ij}$ we have \n",
    "\n",
    "$$\\frac{\\partial E}{\\partial w_{\\textrm{ij}} }=\\frac{\\partial E}{\\partial x^{(2)}_i }\\;\\frac{\\partial x^{(2)}_i }{\\partial h^{(2)}_i } \\; \\frac{\\partial h^{(2)}_i }{\\partial w_{\\textrm{ij}} } \\; =-\\left( t_i -x^{(2)}_i \\right)\\; x^{(2)}_i \\;\\left(1-x^{(2)}_i \\right) \\; x^{(1)}_j,$$ \n",
    "\n",
    "and we can define  $\\delta^{(2)}_i = \\left(t_i - x^{(2)}_i \\right)x^{(2)}_i \\;\\left(1-x^{(2)}_i \\right) $.\n",
    "\n",
    "2. Update the weights between the hidden and the output layers.  For the weight $w_{ij}$ we have the update after a single input $${\\Delta w}_{\\textrm{ij}} = \\eta \\delta^{(2)}_i x^{(1)}_j.$$\n",
    "\n",
    "3. Repeat steps 1 and 2 between the hidden and the input layes and update the weights between them. Here for the weight $w_{ij}$ we have \n",
    "$$\\frac{\\partial E}{\\partial w_{\\textrm{ij}} }=\\frac{\\partial E}{\\partial x^{(1)}_j }\\;\\frac{\\partial x^{(1)}_j }{\\partial h^{(1)}_j }\\;\\frac{\\partial h^{(1)}_j }{\\partial w_{\\textrm{ij}} }\n",
    "=x^{(0)}_j x^{(1)}_i \\;\\left(1-x^{(1)}_i \\right) \\sum_k \\left(w^{(2)}_{\\textrm{ki}} \\delta^{(2)}_k \\right),$$ where the terms $w_{\\textrm{ij}}^{\\left(2\\right)}, \\delta_j^{\\left(2\\right)}$ are the weights and the delta function of the previous layer. So now we can defined the backpropagated local gradient for the hidden layer as\n",
    "$$ \\delta_i^{(1)} = x^{(1)}_i \\;\\left(1-x^{(1)}_i \\right) \\sum_j \\delta^{(2)}_j w^{(2)}_{ji}. $$\n",
    "\n",
    "4. Update the weights between the hidden and the input layers. For the weight $w_{ij}$ we have $${\\Delta w}_{\\textrm{ij}} =\\eta \\delta^{(1)}_i x^{(0)}_j.$$\n"
   ]
  },
  {
   "cell_type": "markdown",
   "metadata": {},
   "source": [
    "## Exercises\n",
    "\n",
    "The code provided first loads the MNIST database and generates a neural network using the parameters provided. Then it trains the network and tests it using the testing set of the MNIST database.\n",
    "\n",
    "1. Test the network using the test dataset, then compute and comment on it's accuracy.\n",
    "\n",
    "\n",
    "2. The weights are generated from a uniform distribution in the interval (0,1) and are then normalized using the sum equals to 1 normalization, i.e the summation of the inputs should be equal to 1. Why is this normalization important? Another initialisation method is the [Xavier initialization](http://www.jmlr.org/proceedings/papers/v9/glorot10a/glorot10a.pdf?hc_location=ufi), which is more commonly used in deep neural networks of more than one hidden layer. In this initialisation the weights are initialised using normally distributed random numbers which are then scaled by sqrt(1/n_cols). Change your initialisation to this and comment on how this changes the training.\n",
    "\n",
    "\n",
    "3. The weights are updated through mini-batches. Change the mini-batch size and see the effect that this has on performance and\n",
    "   computational speed. What are the limits in defining a mini-batch size?\n",
    "\n",
    "\n",
    "4. A bias is included in the calculation of the activation but is set to zero and is not trained. Derive the learning rule and code the training of the bias alongside the weights. It may help to think of the bias as an extra weight where the input value is fixed to 1.\n",
    "\n",
    "\n",
    "5. Upgrade the network by adding one more hidden layer, derive the appropriate formulas for the feedforward and the backpropagation and program them.\n",
    "\n",
    "\n",
    "6. Try to use ten classes and to optimise the network hyperparameters."
   ]
  },
  {
   "cell_type": "code",
   "execution_count": 1,
   "metadata": {},
   "outputs": [],
   "source": [
    "import numpy as np\n",
    "import numpy.matlib \n",
    "import math\n",
    "import matplotlib.pyplot as plt\n",
    "import csv"
   ]
  },
  {
   "cell_type": "code",
   "execution_count": 2,
   "metadata": {},
   "outputs": [],
   "source": [
    "# Load the MNIST dataset:\n",
    "#     The MNIST dataset contains 60,000 training samples.\n",
    "#     To start with we will limit this to 5 classes (the first 5 digits in the dataset) to simplify development\n",
    "#     Reading the data file gives an array of img_size by no. of samples\n",
    "#     so we will work on the transposed array instead \n",
    "\n",
    "from scipy.io import loadmat\n",
    "\n",
    "mnist = loadmat('MNIST.mat')\n",
    "\n",
    "# Read the train set\n",
    "x_train = mnist['x_train']\n",
    "# Read the train labels\n",
    "trainlabels = mnist['trainlabels']\n",
    "\n",
    "# Read the test set\n",
    "x_test = mnist['x_test']\n",
    "# Read the test labels\n",
    "testlabels = mnist['testlabels']\n",
    "\n",
    "#We select the data for three classes that we want to classify\n",
    "\n",
    "N_class=5\n",
    "\n",
    "Index_tr=[]\n",
    "Index_te=[]\n",
    "\n",
    "for i in range(N_class):\n",
    "    \n",
    "    #Find the indexes of the training set corresponding to class i\n",
    "    ind_tr=np.where(trainlabels==i)[0]\n",
    "    #Find the indexes of the test set corresponding to class i\n",
    "    ind_te=np.where(testlabels==i)[0]\n",
    "    \n",
    "    # Append the training indexes in a list\n",
    "    Index_tr.append(ind_tr)\n",
    "    # Append the testing indexes in a list\n",
    "    Index_te.append(ind_te)\n",
    "\n",
    "# Reshape the lists to be a 1-d array    \n",
    "Index_tr=np.concatenate(Index_tr,axis=0)\n",
    "Index_te=np.concatenate(Index_te,axis=0)\n",
    "\n",
    "# Create a training set and a test set with data belonging to the classes considered only\n",
    "x_train=np.copy(x_train[Index_tr,:])\n",
    "x_test=np.copy(x_test[Index_te,:])\n",
    "\n",
    "# Compute the size of the train and test datasets\n",
    "N_tr=np.shape(Index_tr)[0]\n",
    "N_te=np.shape(Index_te)[0]\n",
    "\n",
    "# Create one-hot encoding labels for train and test datasets\n",
    "y_train=np.zeros([N_tr,N_class])\n",
    "y_test=np.zeros([N_te,N_class])\n",
    "\n",
    "for i in range(N_tr):\n",
    "    \n",
    "    y_train[i,int(trainlabels[Index_tr[i]])]=1\n",
    "\n",
    "for i in range(N_te):\n",
    "\n",
    "    y_test[i,int(testlabels[Index_te[i]])]=1\n",
    "\n",
    "    \n",
    "n_samples, img_size = x_train.shape\n"
   ]
  },
  {
   "cell_type": "code",
   "execution_count": 3,
   "metadata": {},
   "outputs": [
    {
     "data": {
      "text/plain": "<Figure size 432x288 with 1 Axes>",
      "image/png": "[encoded data removed]"
     },
     "metadata": {
      "needs_background": "light"
     },
     "output_type": "display_data"
    }
   ],
   "source": [
    "# Example of image, take the transpose to see it in the right orientation\n",
    "example_image=np.reshape(x_train[0],(28,28))\n",
    "plt.imshow(example_image.T)\n",
    "plt.show()"
   ]
  },
  {
   "cell_type": "code",
   "execution_count": 4,
   "metadata": {},
   "outputs": [],
   "source": [
    "# The number of epochs is a hyperparameter that defines the number times that the learning algorithm \n",
    "# will work through the entire training dataset.\n",
    "\n",
    "# The batch size is a hyperparameter that defines the number of samples to work through before \n",
    "# updating the internal model parameters. \n",
    "\n",
    "# ref: https://machinelearningmastery.com/difference-between-a-batch-and-an-epoch/\n",
    "\n",
    "n_epoch = 10\n",
    "batch_size = 20\n",
    "n_batches = int(math.floor(n_samples/batch_size))\n",
    "\n",
    "# define the size of each of the layers in the network\n",
    "n_input_layer  = img_size\n",
    "n_hidden_layer = 100\n",
    "n_output_layer = N_class\n",
    "\n",
    "# Add another hidden layer\n",
    "n_hidden_layer2 = 100 # number of neurons of the hidden layer. 0 deletes this layer\n",
    "\n",
    "# eta is the learning rate\n",
    "eta = 0.05"
   ]
  },
  {
   "cell_type": "code",
   "execution_count": 5,
   "metadata": {},
   "outputs": [],
   "source": [
    "# Initialize a simple network\n",
    "# For W1 and W2 columns are the input and the rows are the output.\n",
    "# W1: Number of columns (input) needs to be equal to the number of features \n",
    "#     of the  MNIST digits, thus p. Number of rows (output) should be equal \n",
    "#     to the number of neurons of the hidden layer thus n_hidden_layer.\n",
    "# W2: Number of columns (input) needs to be equal to the number of neurons \n",
    "#     of the hidden layer. Number of rows (output) should be equal to the \n",
    "#     number of digits we wish to find (classification).\n",
    "\n",
    "W1 = np.random.uniform(0,1,(n_hidden_layer, n_input_layer))\n",
    "W2 = np.random.uniform(0,1,(n_output_layer, n_hidden_layer))\n",
    "\n",
    "# The following normalises the random weights so that the sum of each row =1\n",
    "W1 = np.divide(W1,np.matlib.repmat(np.sum(W1,1)[:,None],1,n_input_layer))\n",
    "W2 = np.divide(W2,np.matlib.repmat(np.sum(W2,1)[:,None],1,n_hidden_layer))"
   ]
  },
  {
   "cell_type": "code",
   "execution_count": 6,
   "metadata": {},
   "outputs": [],
   "source": [
    "# Initialize the biases\n",
    "bias_W1 = np.zeros((n_hidden_layer,))\n",
    "bias_W2 = np.zeros((n_output_layer,))"
   ]
  },
  {
   "cell_type": "code",
   "execution_count": 7,
   "metadata": {},
   "outputs": [],
   "source": [
    "# Keep track of the network inputs and average error per epoch\n",
    "errors = np.zeros((n_epoch,))"
   ]
  },
  {
   "cell_type": "code",
   "execution_count": 8,
   "metadata": {
    "scrolled": true
   },
   "outputs": [
    {
     "name": "stdout",
     "output_type": "stream",
     "text": [
      "Epoch  1 : error =  0.397012251177054\n",
      "Epoch  2 : error =  0.26543859439299294\n",
      "Epoch  3 : error =  0.10772077106267572\n",
      "Epoch  4 : error =  0.06353049418054357\n",
      "Epoch  5 : error =  0.05185658229730691\n",
      "Epoch  6 : error =  0.046146093895805276\n",
      "Epoch  7 : error =  0.04260853961774151\n",
      "Epoch  8 : error =  0.04013928625246785\n",
      "Epoch  9 : error =  0.038218487547601133\n",
      "Epoch  10 : error =  0.036696562965717425\n"
     ]
    }
   ],
   "source": [
    "# Train the network\n",
    "\n",
    "for i in range(0,n_epoch):\n",
    "\n",
    "    # We will shuffle the order of the samples each epoch\n",
    "    shuffled_idxs = np.random.permutation(n_samples)\n",
    "    \n",
    "    for batch in range(0,n_batches):\n",
    "        \n",
    "        # Initialise the gradients for each batch\n",
    "        dW1 = np.zeros(W1.shape)\n",
    "        dW2 = np.zeros(W2.shape)\n",
    "\n",
    "        dbias_W1 = np.zeros(bias_W1.shape)\n",
    "        dbias_W2 = np.zeros(bias_W2.shape)\n",
    "        \n",
    "    \n",
    "        # Loop over all the samples in the batch\n",
    "        for j in range(0,batch_size):\n",
    "\n",
    "            # Input (random element from the dataset)\n",
    "            idx = shuffled_idxs[batch*batch_size + j]\n",
    "            x0 = x_train[idx]\n",
    "            \n",
    "            # Neural activation: input layer -> hidden layer\n",
    "            h1 = np.dot(W1,x0)+bias_W1\n",
    "\n",
    "            # Apply the sigmoid function\n",
    "            x1 = 1/(1+np.exp(-h1))\n",
    "\n",
    "            # Neural activation: hidden layer -> output layer\n",
    "            h2 = np.dot(W2,x1)+bias_W2\n",
    "\n",
    "            # Apply the sigmoid function\n",
    "            x2 = 1/(1+np.exp(-h2))\n",
    "\n",
    "            # Form the desired output, the correct neuron should have 1 the rest 0\n",
    "            desired_output = y_train[idx]\n",
    "\n",
    "            # Compute the error signal\n",
    "            e_n = desired_output - x2\n",
    "\n",
    "            # Backpropagation: output layer -> hidden layer\n",
    "            delta2 = x2*(1-x2) * e_n\n",
    "            dW2 += np.outer(delta2, x1)\n",
    "\n",
    "            # Backpropagation: hidden layer -> input layer\n",
    "            delta1 = x1*(1-x1) * np.dot(W2.T, delta2)\n",
    "            dW1 += np.outer(delta1,x0)\n",
    "\n",
    "            # Store the error per epoch\n",
    "            errors[i] = errors[i] + 0.5*np.sum(np.square(e_n))/n_samples\n",
    "\n",
    "        # After each batch update the weights using accumulated gradients\n",
    "        W2 += eta*dW2/batch_size\n",
    "        W1 += eta*dW1/batch_size\n",
    "        \n",
    "    print( \"Epoch \", i+1, \": error = \", errors[i])"
   ]
  },
  {
   "cell_type": "code",
   "execution_count": 9,
   "metadata": {},
   "outputs": [
    {
     "data": {
      "text/plain": "<Figure size 432x288 with 1 Axes>",
      "image/png": "[encoded data removed]"
     },
     "metadata": {
      "needs_background": "light"
     },
     "output_type": "display_data"
    }
   ],
   "source": [
    "# Plot the performance\n",
    "plt.plot(errors)\n",
    "plt.xlabel('Epoch')\n",
    "plt.ylabel('Error')\n",
    "plt.title('Average error per epoch')\n",
    "plt.show()"
   ]
  },
  {
   "cell_type": "code",
   "execution_count": null,
   "outputs": [],
   "source": [],
   "metadata": {
    "collapsed": false,
    "pycharm": {
     "name": "#%%\n"
    }
   }
  }
 ],
 "metadata": {
  "kernelspec": {
   "display_name": "Python 3 (ipykernel)",
   "language": "python",
   "name": "python3"
  },
  "language_info": {
   "codemirror_mode": {
    "name": "ipython",
    "version": 3
   },
   "file_extension": ".py",
   "mimetype": "text/x-python",
   "name": "python",
   "nbconvert_exporter": "python",
   "pygments_lexer": "ipython3",
   "version": "3.9.10"
  }
 },
 "nbformat": 4,
 "nbformat_minor": 2
}